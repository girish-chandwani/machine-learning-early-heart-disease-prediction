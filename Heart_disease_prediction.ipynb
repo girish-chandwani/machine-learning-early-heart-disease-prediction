{
 "cells": [
  {
   "cell_type": "markdown",
   "metadata": {},
   "source": [
    "# Healthcare Analytics\n",
    "# Project"
   ]
  },
  {
   "cell_type": "markdown",
   "metadata": {},
   "source": [
    "# Table of Contents\n",
    "\n",
    "* [Importing Packages](#1)\n",
    "* [Importing Dataset](#2)\n",
    "* [Exploratory data analysis](#3)\n",
    "* [Creating feature and target dataframes](#4)\n",
    "* [Splitting the data](#5)\n",
    "* [Scaling data (Using MinMaxScaler)](#6)\n",
    "* [Building the Models using grid search](#7)\n",
    "    * [Naive Bayes](#7.1)\n",
    "    * [SVM](#7.2)\n",
    "    * [Decision Tree](#7.3)\n",
    "    * [RandomForest](#7.4)\n",
    "    * [ADA Boost](#7.5)\n",
    "    * [KNN](#7.6)\n",
    "    * [Multilayer Perceptron](#7.7)\n",
    "* [Evaluating the models](#8)\n",
    "* [Plotting Train & Test Accuracies](#9)\n",
    "* [Bagging](#10)\n",
    "* [Voting](#11)\n",
    "* [Feature Engineering](#12)\n",
    "* [References](#13)"
   ]
  },
  {
   "cell_type": "markdown",
   "metadata": {},
   "source": [
    "## Importing packages <a id=\"1\"></a>"
   ]
  },
  {
   "cell_type": "code",
   "execution_count": 1,
   "metadata": {},
   "outputs": [],
   "source": [
    "#importing packages\n",
    "\n",
    "import numpy as np                         # to perform array operations\n",
    "import pandas as pd                        # to deal with dataframes and to read the data file\n",
    "import matplotlib.pyplot as plt            #to plot graphs\n",
    "import random\n",
    "import warnings\n",
    "import seaborn as sns                      #to visualize graphs\n",
    "\n",
    "from sklearn.model_selection import GridSearchCV        #to perform gridsearch in models\n",
    "from sklearn.ensemble import RandomForestClassifier     #importing Randomforest classifier\n",
    "from sklearn.tree import DecisionTreeClassifier         #importing decision tree\n",
    "from sklearn.svm import SVC                             #importing support vector machine and using support vector classifier\n",
    "from sklearn.neighbors import KNeighborsClassifier      #importing K Neighbors classifier\n",
    "from sklearn.ensemble import AdaBoostClassifier         #importing the Ada boosting classifier\n",
    "from sklearn.neural_network import MLPClassifier        #importing Multilayer perceptron\n",
    "from sklearn.naive_bayes import GaussianNB              #importing Gaussian Naive bayes\n",
    "from sklearn.metrics import roc_curve\n",
    "from sklearn.metrics import roc_auc_score\n",
    "\n",
    "warnings.filterwarnings('ignore')                       #to ignore warnings"
   ]
  },
  {
   "cell_type": "markdown",
   "metadata": {},
   "source": [
    "## Importing data <a id=\"2\"></a>"
   ]
  },
  {
   "cell_type": "markdown",
   "metadata": {},
   "source": [
    "### Reading the data"
   ]
  },
  {
   "cell_type": "code",
   "execution_count": 2,
   "metadata": {},
   "outputs": [
    {
     "data": {
      "text/html": [
       "<div>\n",
       "<style scoped>\n",
       "    .dataframe tbody tr th:only-of-type {\n",
       "        vertical-align: middle;\n",
       "    }\n",
       "\n",
       "    .dataframe tbody tr th {\n",
       "        vertical-align: top;\n",
       "    }\n",
       "\n",
       "    .dataframe thead th {\n",
       "        text-align: right;\n",
       "    }\n",
       "</style>\n",
       "<table border=\"1\" class=\"dataframe\">\n",
       "  <thead>\n",
       "    <tr style=\"text-align: right;\">\n",
       "      <th></th>\n",
       "      <th>age</th>\n",
       "      <th>sex</th>\n",
       "      <th>cp</th>\n",
       "      <th>trestbps</th>\n",
       "      <th>chol</th>\n",
       "      <th>fbs</th>\n",
       "      <th>restecg</th>\n",
       "      <th>thalach</th>\n",
       "      <th>exang</th>\n",
       "      <th>oldpeak</th>\n",
       "      <th>slope</th>\n",
       "      <th>ca</th>\n",
       "      <th>thal</th>\n",
       "      <th>target</th>\n",
       "    </tr>\n",
       "  </thead>\n",
       "  <tbody>\n",
       "    <tr>\n",
       "      <th>0</th>\n",
       "      <td>63</td>\n",
       "      <td>1</td>\n",
       "      <td>3</td>\n",
       "      <td>145</td>\n",
       "      <td>233</td>\n",
       "      <td>1</td>\n",
       "      <td>0</td>\n",
       "      <td>150</td>\n",
       "      <td>0</td>\n",
       "      <td>2.3</td>\n",
       "      <td>0</td>\n",
       "      <td>0</td>\n",
       "      <td>1</td>\n",
       "      <td>1</td>\n",
       "    </tr>\n",
       "    <tr>\n",
       "      <th>1</th>\n",
       "      <td>37</td>\n",
       "      <td>1</td>\n",
       "      <td>2</td>\n",
       "      <td>130</td>\n",
       "      <td>250</td>\n",
       "      <td>0</td>\n",
       "      <td>1</td>\n",
       "      <td>187</td>\n",
       "      <td>0</td>\n",
       "      <td>3.5</td>\n",
       "      <td>0</td>\n",
       "      <td>0</td>\n",
       "      <td>2</td>\n",
       "      <td>1</td>\n",
       "    </tr>\n",
       "    <tr>\n",
       "      <th>2</th>\n",
       "      <td>41</td>\n",
       "      <td>0</td>\n",
       "      <td>1</td>\n",
       "      <td>130</td>\n",
       "      <td>204</td>\n",
       "      <td>0</td>\n",
       "      <td>0</td>\n",
       "      <td>172</td>\n",
       "      <td>0</td>\n",
       "      <td>1.4</td>\n",
       "      <td>2</td>\n",
       "      <td>0</td>\n",
       "      <td>2</td>\n",
       "      <td>1</td>\n",
       "    </tr>\n",
       "    <tr>\n",
       "      <th>3</th>\n",
       "      <td>56</td>\n",
       "      <td>1</td>\n",
       "      <td>1</td>\n",
       "      <td>120</td>\n",
       "      <td>236</td>\n",
       "      <td>0</td>\n",
       "      <td>1</td>\n",
       "      <td>178</td>\n",
       "      <td>0</td>\n",
       "      <td>0.8</td>\n",
       "      <td>2</td>\n",
       "      <td>0</td>\n",
       "      <td>2</td>\n",
       "      <td>1</td>\n",
       "    </tr>\n",
       "    <tr>\n",
       "      <th>4</th>\n",
       "      <td>57</td>\n",
       "      <td>0</td>\n",
       "      <td>0</td>\n",
       "      <td>120</td>\n",
       "      <td>354</td>\n",
       "      <td>0</td>\n",
       "      <td>1</td>\n",
       "      <td>163</td>\n",
       "      <td>1</td>\n",
       "      <td>0.6</td>\n",
       "      <td>2</td>\n",
       "      <td>0</td>\n",
       "      <td>2</td>\n",
       "      <td>1</td>\n",
       "    </tr>\n",
       "  </tbody>\n",
       "</table>\n",
       "</div>"
      ],
      "text/plain": [
       "   age  sex  cp  trestbps  chol  fbs  restecg  thalach  exang  oldpeak  slope  \\\n",
       "0   63    1   3       145   233    1        0      150      0      2.3      0   \n",
       "1   37    1   2       130   250    0        1      187      0      3.5      0   \n",
       "2   41    0   1       130   204    0        0      172      0      1.4      2   \n",
       "3   56    1   1       120   236    0        1      178      0      0.8      2   \n",
       "4   57    0   0       120   354    0        1      163      1      0.6      2   \n",
       "\n",
       "   ca  thal  target  \n",
       "0   0     1       1  \n",
       "1   0     2       1  \n",
       "2   0     2       1  \n",
       "3   0     2       1  \n",
       "4   0     2       1  "
      ]
     },
     "execution_count": 2,
     "metadata": {},
     "output_type": "execute_result"
    }
   ],
   "source": [
    "#reading the csv file using pandas .read_csv() method\n",
    "\n",
    "heart_data = pd.read_csv(\"heart.csv\")\n",
    "heart_data.head()"
   ]
  },
  {
   "cell_type": "markdown",
   "metadata": {},
   "source": [
    "## Feature Description:\n",
    "- age=age in years\n",
    "- sex=(1 = male; 0 = female)\n",
    "- cp=chest pain type (4 values)\n",
    " - Value 0: typical angina\n",
    " - Value 1: atypical angina\n",
    " - Value 2: non-anginal pain\n",
    " - Value 3: asymptomatic\n",
    "-  trestbps=resting blood pressure (in mm Hg on admission to the hospital)\n",
    "- chol=serum cholestoral in mg/dl\n",
    "- fbs=fasting blood sugar > 120 mg/dl (1 = true; 0 = false)\n",
    "- restecg=resting electrocardiographic results (values 0,1,2)\n",
    " - Value 0: normal\n",
    " - Value 1: having ST-T wave abnormality (T wave inversions and/or ST elevation or depression of > 0.05 mV)\n",
    " - Value 2: showing probable or definite left ventricular hypertrophy by Estes' criteria\n",
    "- thalach=maximum heart rate achieved\n",
    "- exang=exercise induced angina (1 = yes; 0 = no)\n",
    "- oldpeak = ST depression induced by exercise relative to rest\n",
    "- slope=the slope of the peak exercise ST segment\n",
    " - Value 0: upsloping\n",
    " - Value 1: flat\n",
    " - Value 2: downsloping\n",
    "- ca=number of major vessels (0-3) colored by flourosopy\n",
    "- thal: 3 = normal; 6 = fixed defect; 7 = reversable defect\n",
    "- target/Decision= refers to the presence of heart disease in the patient. It is integer valued from 0 (no presence) to 1 .    "
   ]
  },
  {
   "cell_type": "code",
   "execution_count": 3,
   "metadata": {},
   "outputs": [
    {
     "data": {
      "text/plain": [
       "(303, 14)"
      ]
     },
     "execution_count": 3,
     "metadata": {},
     "output_type": "execute_result"
    }
   ],
   "source": [
    "heart_data.shape"
   ]
  },
  {
   "cell_type": "markdown",
   "metadata": {},
   "source": [
    "## Data Processing"
   ]
  },
  {
   "cell_type": "code",
   "execution_count": 4,
   "metadata": {},
   "outputs": [
    {
     "name": "stdout",
     "output_type": "stream",
     "text": [
      "<class 'pandas.core.frame.DataFrame'>\n",
      "RangeIndex: 303 entries, 0 to 302\n",
      "Data columns (total 14 columns):\n",
      " #   Column    Non-Null Count  Dtype  \n",
      "---  ------    --------------  -----  \n",
      " 0   age       303 non-null    int64  \n",
      " 1   sex       303 non-null    int64  \n",
      " 2   cp        303 non-null    int64  \n",
      " 3   trestbps  303 non-null    int64  \n",
      " 4   chol      303 non-null    int64  \n",
      " 5   fbs       303 non-null    int64  \n",
      " 6   restecg   303 non-null    int64  \n",
      " 7   thalach   303 non-null    int64  \n",
      " 8   exang     303 non-null    int64  \n",
      " 9   oldpeak   303 non-null    float64\n",
      " 10  slope     303 non-null    int64  \n",
      " 11  ca        303 non-null    int64  \n",
      " 12  thal      303 non-null    int64  \n",
      " 13  target    303 non-null    int64  \n",
      "dtypes: float64(1), int64(13)\n",
      "memory usage: 33.3 KB\n"
     ]
    }
   ],
   "source": [
    "#to get the column information, with rows, not null and their data types\n",
    "heart_data.info()"
   ]
  },
  {
   "cell_type": "code",
   "execution_count": 5,
   "metadata": {},
   "outputs": [
    {
     "data": {
      "text/html": [
       "<div>\n",
       "<style scoped>\n",
       "    .dataframe tbody tr th:only-of-type {\n",
       "        vertical-align: middle;\n",
       "    }\n",
       "\n",
       "    .dataframe tbody tr th {\n",
       "        vertical-align: top;\n",
       "    }\n",
       "\n",
       "    .dataframe thead th {\n",
       "        text-align: right;\n",
       "    }\n",
       "</style>\n",
       "<table border=\"1\" class=\"dataframe\">\n",
       "  <thead>\n",
       "    <tr style=\"text-align: right;\">\n",
       "      <th></th>\n",
       "      <th>age</th>\n",
       "      <th>sex</th>\n",
       "      <th>cp</th>\n",
       "      <th>trestbps</th>\n",
       "      <th>chol</th>\n",
       "      <th>fbs</th>\n",
       "      <th>restecg</th>\n",
       "      <th>thalach</th>\n",
       "      <th>exang</th>\n",
       "      <th>oldpeak</th>\n",
       "      <th>slope</th>\n",
       "      <th>ca</th>\n",
       "      <th>thal</th>\n",
       "      <th>target</th>\n",
       "    </tr>\n",
       "  </thead>\n",
       "  <tbody>\n",
       "    <tr>\n",
       "      <th>count</th>\n",
       "      <td>303.000000</td>\n",
       "      <td>303.000000</td>\n",
       "      <td>303.000000</td>\n",
       "      <td>303.000000</td>\n",
       "      <td>303.000000</td>\n",
       "      <td>303.000000</td>\n",
       "      <td>303.000000</td>\n",
       "      <td>303.000000</td>\n",
       "      <td>303.000000</td>\n",
       "      <td>303.000000</td>\n",
       "      <td>303.000000</td>\n",
       "      <td>303.000000</td>\n",
       "      <td>303.000000</td>\n",
       "      <td>303.000000</td>\n",
       "    </tr>\n",
       "    <tr>\n",
       "      <th>mean</th>\n",
       "      <td>54.366337</td>\n",
       "      <td>0.683168</td>\n",
       "      <td>0.966997</td>\n",
       "      <td>131.623762</td>\n",
       "      <td>246.264026</td>\n",
       "      <td>0.148515</td>\n",
       "      <td>0.528053</td>\n",
       "      <td>149.646865</td>\n",
       "      <td>0.326733</td>\n",
       "      <td>1.039604</td>\n",
       "      <td>1.399340</td>\n",
       "      <td>0.729373</td>\n",
       "      <td>2.313531</td>\n",
       "      <td>0.544554</td>\n",
       "    </tr>\n",
       "    <tr>\n",
       "      <th>std</th>\n",
       "      <td>9.082101</td>\n",
       "      <td>0.466011</td>\n",
       "      <td>1.032052</td>\n",
       "      <td>17.538143</td>\n",
       "      <td>51.830751</td>\n",
       "      <td>0.356198</td>\n",
       "      <td>0.525860</td>\n",
       "      <td>22.905161</td>\n",
       "      <td>0.469794</td>\n",
       "      <td>1.161075</td>\n",
       "      <td>0.616226</td>\n",
       "      <td>1.022606</td>\n",
       "      <td>0.612277</td>\n",
       "      <td>0.498835</td>\n",
       "    </tr>\n",
       "    <tr>\n",
       "      <th>min</th>\n",
       "      <td>29.000000</td>\n",
       "      <td>0.000000</td>\n",
       "      <td>0.000000</td>\n",
       "      <td>94.000000</td>\n",
       "      <td>126.000000</td>\n",
       "      <td>0.000000</td>\n",
       "      <td>0.000000</td>\n",
       "      <td>71.000000</td>\n",
       "      <td>0.000000</td>\n",
       "      <td>0.000000</td>\n",
       "      <td>0.000000</td>\n",
       "      <td>0.000000</td>\n",
       "      <td>0.000000</td>\n",
       "      <td>0.000000</td>\n",
       "    </tr>\n",
       "    <tr>\n",
       "      <th>25%</th>\n",
       "      <td>47.500000</td>\n",
       "      <td>0.000000</td>\n",
       "      <td>0.000000</td>\n",
       "      <td>120.000000</td>\n",
       "      <td>211.000000</td>\n",
       "      <td>0.000000</td>\n",
       "      <td>0.000000</td>\n",
       "      <td>133.500000</td>\n",
       "      <td>0.000000</td>\n",
       "      <td>0.000000</td>\n",
       "      <td>1.000000</td>\n",
       "      <td>0.000000</td>\n",
       "      <td>2.000000</td>\n",
       "      <td>0.000000</td>\n",
       "    </tr>\n",
       "    <tr>\n",
       "      <th>50%</th>\n",
       "      <td>55.000000</td>\n",
       "      <td>1.000000</td>\n",
       "      <td>1.000000</td>\n",
       "      <td>130.000000</td>\n",
       "      <td>240.000000</td>\n",
       "      <td>0.000000</td>\n",
       "      <td>1.000000</td>\n",
       "      <td>153.000000</td>\n",
       "      <td>0.000000</td>\n",
       "      <td>0.800000</td>\n",
       "      <td>1.000000</td>\n",
       "      <td>0.000000</td>\n",
       "      <td>2.000000</td>\n",
       "      <td>1.000000</td>\n",
       "    </tr>\n",
       "    <tr>\n",
       "      <th>75%</th>\n",
       "      <td>61.000000</td>\n",
       "      <td>1.000000</td>\n",
       "      <td>2.000000</td>\n",
       "      <td>140.000000</td>\n",
       "      <td>274.500000</td>\n",
       "      <td>0.000000</td>\n",
       "      <td>1.000000</td>\n",
       "      <td>166.000000</td>\n",
       "      <td>1.000000</td>\n",
       "      <td>1.600000</td>\n",
       "      <td>2.000000</td>\n",
       "      <td>1.000000</td>\n",
       "      <td>3.000000</td>\n",
       "      <td>1.000000</td>\n",
       "    </tr>\n",
       "    <tr>\n",
       "      <th>max</th>\n",
       "      <td>77.000000</td>\n",
       "      <td>1.000000</td>\n",
       "      <td>3.000000</td>\n",
       "      <td>200.000000</td>\n",
       "      <td>564.000000</td>\n",
       "      <td>1.000000</td>\n",
       "      <td>2.000000</td>\n",
       "      <td>202.000000</td>\n",
       "      <td>1.000000</td>\n",
       "      <td>6.200000</td>\n",
       "      <td>2.000000</td>\n",
       "      <td>4.000000</td>\n",
       "      <td>3.000000</td>\n",
       "      <td>1.000000</td>\n",
       "    </tr>\n",
       "  </tbody>\n",
       "</table>\n",
       "</div>"
      ],
      "text/plain": [
       "              age         sex          cp    trestbps        chol         fbs  \\\n",
       "count  303.000000  303.000000  303.000000  303.000000  303.000000  303.000000   \n",
       "mean    54.366337    0.683168    0.966997  131.623762  246.264026    0.148515   \n",
       "std      9.082101    0.466011    1.032052   17.538143   51.830751    0.356198   \n",
       "min     29.000000    0.000000    0.000000   94.000000  126.000000    0.000000   \n",
       "25%     47.500000    0.000000    0.000000  120.000000  211.000000    0.000000   \n",
       "50%     55.000000    1.000000    1.000000  130.000000  240.000000    0.000000   \n",
       "75%     61.000000    1.000000    2.000000  140.000000  274.500000    0.000000   \n",
       "max     77.000000    1.000000    3.000000  200.000000  564.000000    1.000000   \n",
       "\n",
       "          restecg     thalach       exang     oldpeak       slope          ca  \\\n",
       "count  303.000000  303.000000  303.000000  303.000000  303.000000  303.000000   \n",
       "mean     0.528053  149.646865    0.326733    1.039604    1.399340    0.729373   \n",
       "std      0.525860   22.905161    0.469794    1.161075    0.616226    1.022606   \n",
       "min      0.000000   71.000000    0.000000    0.000000    0.000000    0.000000   \n",
       "25%      0.000000  133.500000    0.000000    0.000000    1.000000    0.000000   \n",
       "50%      1.000000  153.000000    0.000000    0.800000    1.000000    0.000000   \n",
       "75%      1.000000  166.000000    1.000000    1.600000    2.000000    1.000000   \n",
       "max      2.000000  202.000000    1.000000    6.200000    2.000000    4.000000   \n",
       "\n",
       "             thal      target  \n",
       "count  303.000000  303.000000  \n",
       "mean     2.313531    0.544554  \n",
       "std      0.612277    0.498835  \n",
       "min      0.000000    0.000000  \n",
       "25%      2.000000    0.000000  \n",
       "50%      2.000000    1.000000  \n",
       "75%      3.000000    1.000000  \n",
       "max      3.000000    1.000000  "
      ]
     },
     "execution_count": 5,
     "metadata": {},
     "output_type": "execute_result"
    }
   ],
   "source": [
    "#statiscally describing the column information\n",
    "heart_data.describe()"
   ]
  },
  {
   "cell_type": "markdown",
   "metadata": {},
   "source": [
    "## Exploratory data analysis <a id=\"3\"></a>"
   ]
  },
  {
   "cell_type": "markdown",
   "metadata": {},
   "source": [
    "### checking missing values"
   ]
  },
  {
   "cell_type": "code",
   "execution_count": 6,
   "metadata": {},
   "outputs": [
    {
     "data": {
      "text/plain": [
       "age         0\n",
       "sex         0\n",
       "cp          0\n",
       "trestbps    0\n",
       "chol        0\n",
       "fbs         0\n",
       "restecg     0\n",
       "thalach     0\n",
       "exang       0\n",
       "oldpeak     0\n",
       "slope       0\n",
       "ca          0\n",
       "thal        0\n",
       "target      0\n",
       "dtype: int64"
      ]
     },
     "execution_count": 6,
     "metadata": {},
     "output_type": "execute_result"
    }
   ],
   "source": [
    "# Checking the missing values\n",
    "heart_data.isnull().sum()"
   ]
  },
  {
   "cell_type": "code",
   "execution_count": 7,
   "metadata": {},
   "outputs": [
    {
     "data": {
      "image/png": "[encoded data removed]",
      "text/plain": [
       "<Figure size 432x288 with 1 Axes>"
      ]
     },
     "metadata": {},
     "output_type": "display_data"
    }
   ],
   "source": [
    "#calculate the percentage of  category.\n",
    "#heart_data.sex.value_counts(normalize=True)\n",
    "\n",
    "#plot the pie chart of education categories\n",
    "heart_data.sex.value_counts(normalize=True).plot.pie(textprops={'fontsize': 14})\n",
    "plt.title('sex',fontsize=14)\n",
    "plt.show()"
   ]
  },
  {
   "cell_type": "code",
   "execution_count": 8,
   "metadata": {},
   "outputs": [
    {
     "data": {
      "text/plain": [
       "<AxesSubplot:>"
      ]
     },
     "execution_count": 8,
     "metadata": {},
     "output_type": "execute_result"
    },
    {
     "data": {
      "image/png": "[encoded data removed]",
      "text/plain": [
       "<Figure size 432x288 with 1 Axes>"
      ]
     },
     "metadata": {
      "needs_background": "light"
     },
     "output_type": "display_data"
    }
   ],
   "source": [
    "heart_data['sex'].value_counts().plot(kind='bar')"
   ]
  },
  {
   "cell_type": "code",
   "execution_count": 9,
   "metadata": {},
   "outputs": [],
   "source": [
    "cat_cols = ['sex','cp','fbs','restecg','exang','slope','ca','thal','target']"
   ]
  },
  {
   "cell_type": "code",
   "execution_count": 10,
   "metadata": {},
   "outputs": [
    {
     "data": {
      "text/plain": [
       "<AxesSubplot:ylabel='sex'>"
      ]
     },
     "execution_count": 10,
     "metadata": {},
     "output_type": "execute_result"
    },
    {
     "data": {
      "image/png": "[encoded data removed]",
      "text/plain": [
       "<Figure size 432x288 with 1 Axes>"
      ]
     },
     "metadata": {},
     "output_type": "display_data"
    }
   ],
   "source": [
    "heart_data['sex'].value_counts().plot.pie(autopct='%1.1f%%')"
   ]
  },
  {
   "cell_type": "code",
   "execution_count": 11,
   "metadata": {},
   "outputs": [
    {
     "data": {
      "image/png": "[encoded data removed]",
      "text/plain": [
       "<Figure size 720x360 with 1 Axes>"
      ]
     },
     "metadata": {
      "needs_background": "light"
     },
     "output_type": "display_data"
    },
    {
     "data": {
      "image/png": "[encoded data removed]",
      "text/plain": [
       "<Figure size 720x360 with 1 Axes>"
      ]
     },
     "metadata": {
      "needs_background": "light"
     },
     "output_type": "display_data"
    },
    {
     "data": {
      "image/png": "[encoded data removed]",
      "text/plain": [
       "<Figure size 720x360 with 1 Axes>"
      ]
     },
     "metadata": {
      "needs_background": "light"
     },
     "output_type": "display_data"
    },
    {
     "data": {
      "image/png": "[encoded data removed]",
      "text/plain": [
       "<Figure size 720x360 with 1 Axes>"
      ]
     },
     "metadata": {
      "needs_background": "light"
     },
     "output_type": "display_data"
    },
    {
     "data": {
      "image/png": "[encoded data removed]",
      "text/plain": [
       "<Figure size 720x360 with 1 Axes>"
      ]
     },
     "metadata": {
      "needs_background": "light"
     },
     "output_type": "display_data"
    },
    {
     "data": {
      "image/png": "[encoded data removed]",
      "text/plain": [
       "<Figure size 720x360 with 1 Axes>"
      ]
     },
     "metadata": {
      "needs_background": "light"
     },
     "output_type": "display_data"
    },
    {
     "data": {
      "image/png": "[encoded data removed]",
      "text/plain": [
       "<Figure size 720x360 with 1 Axes>"
      ]
     },
     "metadata": {
      "needs_background": "light"
     },
     "output_type": "display_data"
    },
    {
     "data": {
      "image/png": "[encoded data removed]",
      "text/plain": [
       "<Figure size 720x360 with 1 Axes>"
      ]
     },
     "metadata": {
      "needs_background": "light"
     },
     "output_type": "display_data"
    },
    {
     "data": {
      "image/png": "[encoded data removed]",
      "text/plain": [
       "<Figure size 720x360 with 1 Axes>"
      ]
     },
     "metadata": {
      "needs_background": "light"
     },
     "output_type": "display_data"
    },
    {
     "data": {
      "image/png": "[encoded data removed]",
      "text/plain": [
       "<Figure size 720x360 with 1 Axes>"
      ]
     },
     "metadata": {
      "needs_background": "light"
     },
     "output_type": "display_data"
    },
    {
     "data": {
      "image/png": "[encoded data removed]",
      "text/plain": [
       "<Figure size 720x360 with 1 Axes>"
      ]
     },
     "metadata": {
      "needs_background": "light"
     },
     "output_type": "display_data"
    },
    {
     "data": {
      "image/png": "[encoded data removed]",
      "text/plain": [
       "<Figure size 720x360 with 1 Axes>"
      ]
     },
     "metadata": {
      "needs_background": "light"
     },
     "output_type": "display_data"
    },
    {
     "data": {
      "image/png": "[encoded data removed]",
      "text/plain": [
       "<Figure size 720x360 with 1 Axes>"
      ]
     },
     "metadata": {
      "needs_background": "light"
     },
     "output_type": "display_data"
    },
    {
     "data": {
      "image/png": "[encoded data removed]",
      "text/plain": [
       "<Figure size 720x360 with 1 Axes>"
      ]
     },
     "metadata": {
      "needs_background": "light"
     },
     "output_type": "display_data"
    }
   ],
   "source": [
    "# The simple way\n",
    "for i in heart_data.columns:\n",
    "    fig = plt.figure(figsize = (10,5))\n",
    "    ax = fig.gca()\n",
    "    #df.hist(ax = ax)\n",
    "    heart_data.hist(i,ax = ax)"
   ]
  },
  {
   "cell_type": "markdown",
   "metadata": {},
   "source": [
    "### Description of above Histograms \n",
    "\n",
    "- Age: The age histogram shows that majority of the patients belonged to the age range between 52-63, and extremely low num of patients under 35 years and even above 70 years.\n",
    "\n",
    "- Sex: The proportion of male patients are nearly double the size of the female patients depicting that males are more exposed to heart disease \n",
    "\n",
    "- Cp= the histogram shows that majority of the patients brought to the hospital had chest pain type 0, showing the typical angina, and the asymptomatic chest pain (type 3) was seen in minor number of patients \n",
    "\n",
    "- Trestbps= the highest resting blood pressure was within the range of 120-130 mm Hg on admission to the hospital and the lowest resting blood pressure was seen in the range of 180 to 200 mm Hg.\n",
    "\n",
    "- Chol= serum cholesterol of 210-260 mg/dl has the highest frequency with the lowest frequency being 350 -390 mg/dl \n",
    "\n",
    "- Fbs= majority of patients fasting blood sugar was below 120 mg/dl and very little higher than 120 mg/dl\n",
    "\n",
    "- Restecg= having a normal resting ECG result and those having ST-T wave abnormality have the highest numbers,  with type 1 (having ST-T wave abnormality) being slightly higher. However, type 2 which shows a probable or definite left ventricular hypertrophy is extremely low.\n",
    "\n",
    "- Thalach= Most of the patients came in with a maximum heart rate achieved is within the range of 150-162 and few with a heart rate within 50-85 which is extremely low. Looking at the histogram we see that there have been patients who have been admitted with the max heart rate of 202 as well which is known to be extremely severe. \n",
    "\n",
    "- Exang= stable angina is usually triggered or induced by physical activity. When you climb stairs, exercise or walk, your heart demands more blood, but narrowed arteries slow down blood flow. Thus, what the histogram is depicting is that nearly 200 patients’ angina was not induced by exercise, however around half (100 records) were triggered.\n",
    "\n",
    "- Oldpeak= Normal ST segment depressions occur during physical exercise. These ST segment depressions have an upsloping ST segment. The depression in the J 60 point is usually <1 mm and they resolve rapidly once the exercise is stopped. According to the definition of this feature wee see that the highest ST depression induced by exercise relative to rest shows highest frequency when below 1 mm. \n",
    "\n",
    "- Slope= as described in previous feature “oldpeak” we understand that a normal ST segment depression occurs during exercise and has an upsloping ST segment. In the histogram related to this feature we see that number of upsloping, showing a normal ST segment, is extremely low in comparison to that of the flat and down sloping that indicate coronary ischemia, both being very high with a similar frequency.  \n",
    "\n",
    "- Ca=\n",
    "\n",
    "- Thal= \n",
    "\n",
    "- Decision= as per the description we know that based on the initial dataset target value is the presence of heart disease if it shows the value of 1 and 0 if heart disease does not exist and by the histogram it is observed that both presence and non-presence values are showing relatively high numbers, with existence of disease being higher. \n",
    "  \n",
    "\n"
   ]
  },
  {
   "cell_type": "code",
   "execution_count": 12,
   "metadata": {},
   "outputs": [
    {
     "data": {
      "text/plain": [
       "<AxesSubplot:>"
      ]
     },
     "execution_count": 12,
     "metadata": {},
     "output_type": "execute_result"
    },
    {
     "data": {
      "image/png": "[encoded data removed]",
      "text/plain": [
       "<Figure size 432x288 with 1 Axes>"
      ]
     },
     "metadata": {
      "needs_background": "light"
     },
     "output_type": "display_data"
    }
   ],
   "source": [
    "heart_data['cp'].value_counts().plot(kind='bar')"
   ]
  },
  {
   "cell_type": "code",
   "execution_count": 13,
   "metadata": {},
   "outputs": [
    {
     "data": {
      "text/plain": [
       "<AxesSubplot:>"
      ]
     },
     "execution_count": 13,
     "metadata": {},
     "output_type": "execute_result"
    },
    {
     "data": {
      "image/png": "[encoded data removed]",
      "text/plain": [
       "<Figure size 432x288 with 1 Axes>"
      ]
     },
     "metadata": {
      "needs_background": "light"
     },
     "output_type": "display_data"
    }
   ],
   "source": [
    "heart_data['fbs'].value_counts().plot(kind='bar')"
   ]
  },
  {
   "cell_type": "code",
   "execution_count": 14,
   "metadata": {},
   "outputs": [
    {
     "data": {
      "text/plain": [
       "<AxesSubplot:>"
      ]
     },
     "execution_count": 14,
     "metadata": {},
     "output_type": "execute_result"
    },
    {
     "data": {
      "image/png": "[encoded data removed]",
      "text/plain": [
       "<Figure size 432x288 with 1 Axes>"
      ]
     },
     "metadata": {
      "needs_background": "light"
     },
     "output_type": "display_data"
    }
   ],
   "source": [
    "heart_data['restecg'].value_counts().plot(kind='bar')"
   ]
  },
  {
   "cell_type": "code",
   "execution_count": 15,
   "metadata": {},
   "outputs": [
    {
     "data": {
      "text/plain": [
       "<AxesSubplot:>"
      ]
     },
     "execution_count": 15,
     "metadata": {},
     "output_type": "execute_result"
    },
    {
     "data": {
      "image/png": "[encoded data removed]",
      "text/plain": [
       "<Figure size 432x288 with 1 Axes>"
      ]
     },
     "metadata": {
      "needs_background": "light"
     },
     "output_type": "display_data"
    }
   ],
   "source": [
    "heart_data['exang'].value_counts().plot(kind='bar')"
   ]
  },
  {
   "cell_type": "code",
   "execution_count": 16,
   "metadata": {},
   "outputs": [
    {
     "data": {
      "text/plain": [
       "<AxesSubplot:>"
      ]
     },
     "execution_count": 16,
     "metadata": {},
     "output_type": "execute_result"
    },
    {
     "data": {
      "image/png": "[encoded data removed]",
      "text/plain": [
       "<Figure size 432x288 with 1 Axes>"
      ]
     },
     "metadata": {
      "needs_background": "light"
     },
     "output_type": "display_data"
    }
   ],
   "source": [
    "heart_data['slope'].value_counts().plot(kind='bar')"
   ]
  },
  {
   "cell_type": "code",
   "execution_count": 17,
   "metadata": {},
   "outputs": [
    {
     "data": {
      "text/plain": [
       "<AxesSubplot:>"
      ]
     },
     "execution_count": 17,
     "metadata": {},
     "output_type": "execute_result"
    },
    {
     "data": {
      "image/png": "[encoded data removed]",
      "text/plain": [
       "<Figure size 432x288 with 1 Axes>"
      ]
     },
     "metadata": {
      "needs_background": "light"
     },
     "output_type": "display_data"
    }
   ],
   "source": [
    "heart_data['ca'].value_counts().plot(kind='bar')"
   ]
  },
  {
   "cell_type": "code",
   "execution_count": 18,
   "metadata": {},
   "outputs": [
    {
     "data": {
      "text/plain": [
       "<AxesSubplot:>"
      ]
     },
     "execution_count": 18,
     "metadata": {},
     "output_type": "execute_result"
    },
    {
     "data": {
      "image/png": "[encoded data removed]",
      "text/plain": [
       "<Figure size 432x288 with 1 Axes>"
      ]
     },
     "metadata": {
      "needs_background": "light"
     },
     "output_type": "display_data"
    }
   ],
   "source": [
    "heart_data['thal'].value_counts().plot(kind='bar')"
   ]
  },
  {
   "cell_type": "code",
   "execution_count": 19,
   "metadata": {},
   "outputs": [
    {
     "data": {
      "text/plain": [
       "<AxesSubplot:>"
      ]
     },
     "execution_count": 19,
     "metadata": {},
     "output_type": "execute_result"
    },
    {
     "data": {
      "image/png": "[encoded data removed]",
      "text/plain": [
       "<Figure size 432x288 with 1 Axes>"
      ]
     },
     "metadata": {
      "needs_background": "light"
     },
     "output_type": "display_data"
    }
   ],
   "source": [
    "heart_data['target'].value_counts().plot(kind='bar')"
   ]
  },
  {
   "cell_type": "code",
   "execution_count": 20,
   "metadata": {},
   "outputs": [
    {
     "data": {
      "text/plain": [
       "<AxesSubplot:>"
      ]
     },
     "execution_count": 20,
     "metadata": {},
     "output_type": "execute_result"
    },
    {
     "data": {
      "image/png": "[encoded data removed]",
      "text/plain": [
       "<Figure size 720x720 with 2 Axes>"
      ]
     },
     "metadata": {
      "needs_background": "light"
     },
     "output_type": "display_data"
    }
   ],
   "source": [
    "fig, ax = plt.subplots(figsize=(10,10))         \n",
    "sns.heatmap(heart_data.corr(), annot=True, linewidths=.5, ax=ax)"
   ]
  },
  {
   "cell_type": "markdown",
   "metadata": {},
   "source": [
    "- The heatmap shows which features have a positive and negative corrolation and to what degree do they positively or negatively influence each other \n",
    "- which is shown by the numbers in the boxes, each representing a color calibration. The dark purple color(-0.58) shows extreme negative corrolation and as it goes towards light pink (1.0)the corrolation becomes extremely positive \n",
    "- an overall look at the matrix will give us the percpective that majorly the colors range between -0.5 to 0.5 being mostly purpulish with footprint of negative corroplation scattered \n",
    "- The features that are extremely negatievly corrolated are age & thalach,exang & cp, thalach & oldpeak, exang & thalach, exang & decision, exang & cp, slop & oldpeak, oldpeak & decision, ca & decision, etc."
   ]
  },
  {
   "cell_type": "code",
   "execution_count": 21,
   "metadata": {},
   "outputs": [
    {
     "data": {
      "text/html": [
       "<div>\n",
       "<style scoped>\n",
       "    .dataframe tbody tr th:only-of-type {\n",
       "        vertical-align: middle;\n",
       "    }\n",
       "\n",
       "    .dataframe tbody tr th {\n",
       "        vertical-align: top;\n",
       "    }\n",
       "\n",
       "    .dataframe thead th {\n",
       "        text-align: right;\n",
       "    }\n",
       "</style>\n",
       "<table border=\"1\" class=\"dataframe\">\n",
       "  <thead>\n",
       "    <tr style=\"text-align: right;\">\n",
       "      <th></th>\n",
       "      <th>age</th>\n",
       "      <th>sex</th>\n",
       "      <th>cp</th>\n",
       "      <th>trestbps</th>\n",
       "      <th>chol</th>\n",
       "      <th>fbs</th>\n",
       "      <th>restecg</th>\n",
       "      <th>thalach</th>\n",
       "      <th>exang</th>\n",
       "      <th>oldpeak</th>\n",
       "      <th>slope</th>\n",
       "      <th>ca</th>\n",
       "      <th>thal</th>\n",
       "      <th>target</th>\n",
       "    </tr>\n",
       "  </thead>\n",
       "  <tbody>\n",
       "    <tr>\n",
       "      <th>0</th>\n",
       "      <td>63</td>\n",
       "      <td>1</td>\n",
       "      <td>3</td>\n",
       "      <td>145</td>\n",
       "      <td>233</td>\n",
       "      <td>1</td>\n",
       "      <td>0</td>\n",
       "      <td>150</td>\n",
       "      <td>0</td>\n",
       "      <td>2.3</td>\n",
       "      <td>0</td>\n",
       "      <td>0</td>\n",
       "      <td>1</td>\n",
       "      <td>1</td>\n",
       "    </tr>\n",
       "    <tr>\n",
       "      <th>1</th>\n",
       "      <td>37</td>\n",
       "      <td>1</td>\n",
       "      <td>2</td>\n",
       "      <td>130</td>\n",
       "      <td>250</td>\n",
       "      <td>0</td>\n",
       "      <td>1</td>\n",
       "      <td>187</td>\n",
       "      <td>0</td>\n",
       "      <td>3.5</td>\n",
       "      <td>0</td>\n",
       "      <td>0</td>\n",
       "      <td>2</td>\n",
       "      <td>1</td>\n",
       "    </tr>\n",
       "    <tr>\n",
       "      <th>2</th>\n",
       "      <td>41</td>\n",
       "      <td>0</td>\n",
       "      <td>1</td>\n",
       "      <td>130</td>\n",
       "      <td>204</td>\n",
       "      <td>0</td>\n",
       "      <td>0</td>\n",
       "      <td>172</td>\n",
       "      <td>0</td>\n",
       "      <td>1.4</td>\n",
       "      <td>2</td>\n",
       "      <td>0</td>\n",
       "      <td>2</td>\n",
       "      <td>1</td>\n",
       "    </tr>\n",
       "    <tr>\n",
       "      <th>3</th>\n",
       "      <td>56</td>\n",
       "      <td>1</td>\n",
       "      <td>1</td>\n",
       "      <td>120</td>\n",
       "      <td>236</td>\n",
       "      <td>0</td>\n",
       "      <td>1</td>\n",
       "      <td>178</td>\n",
       "      <td>0</td>\n",
       "      <td>0.8</td>\n",
       "      <td>2</td>\n",
       "      <td>0</td>\n",
       "      <td>2</td>\n",
       "      <td>1</td>\n",
       "    </tr>\n",
       "    <tr>\n",
       "      <th>4</th>\n",
       "      <td>57</td>\n",
       "      <td>0</td>\n",
       "      <td>0</td>\n",
       "      <td>120</td>\n",
       "      <td>354</td>\n",
       "      <td>0</td>\n",
       "      <td>1</td>\n",
       "      <td>163</td>\n",
       "      <td>1</td>\n",
       "      <td>0.6</td>\n",
       "      <td>2</td>\n",
       "      <td>0</td>\n",
       "      <td>2</td>\n",
       "      <td>1</td>\n",
       "    </tr>\n",
       "  </tbody>\n",
       "</table>\n",
       "</div>"
      ],
      "text/plain": [
       "   age  sex  cp  trestbps  chol  fbs  restecg  thalach  exang  oldpeak  slope  \\\n",
       "0   63    1   3       145   233    1        0      150      0      2.3      0   \n",
       "1   37    1   2       130   250    0        1      187      0      3.5      0   \n",
       "2   41    0   1       130   204    0        0      172      0      1.4      2   \n",
       "3   56    1   1       120   236    0        1      178      0      0.8      2   \n",
       "4   57    0   0       120   354    0        1      163      1      0.6      2   \n",
       "\n",
       "   ca  thal  target  \n",
       "0   0     1       1  \n",
       "1   0     2       1  \n",
       "2   0     2       1  \n",
       "3   0     2       1  \n",
       "4   0     2       1  "
      ]
     },
     "execution_count": 21,
     "metadata": {},
     "output_type": "execute_result"
    }
   ],
   "source": [
    "#finding numerical attributes\n",
    "heart_data_num = heart_data.select_dtypes(include = ['float64', 'int64'])\n",
    "heart_data_num.head()"
   ]
  },
  {
   "cell_type": "code",
   "execution_count": 22,
   "metadata": {},
   "outputs": [
    {
     "data": {
      "text/plain": [
       "array([[<AxesSubplot:title={'center':'age'}>,\n",
       "        <AxesSubplot:title={'center':'sex'}>,\n",
       "        <AxesSubplot:title={'center':'cp'}>,\n",
       "        <AxesSubplot:title={'center':'trestbps'}>],\n",
       "       [<AxesSubplot:title={'center':'chol'}>,\n",
       "        <AxesSubplot:title={'center':'fbs'}>,\n",
       "        <AxesSubplot:title={'center':'restecg'}>,\n",
       "        <AxesSubplot:title={'center':'thalach'}>],\n",
       "       [<AxesSubplot:title={'center':'exang'}>,\n",
       "        <AxesSubplot:title={'center':'oldpeak'}>,\n",
       "        <AxesSubplot:title={'center':'slope'}>,\n",
       "        <AxesSubplot:title={'center':'ca'}>],\n",
       "       [<AxesSubplot:title={'center':'thal'}>,\n",
       "        <AxesSubplot:title={'center':'target'}>, <AxesSubplot:>,\n",
       "        <AxesSubplot:>]], dtype=object)"
      ]
     },
     "execution_count": 22,
     "metadata": {},
     "output_type": "execute_result"
    },
    {
     "data": {
      "image/png": "[encoded data removed]",
      "text/plain": [
       "<Figure size 1152x1440 with 16 Axes>"
      ]
     },
     "metadata": {
      "needs_background": "light"
     },
     "output_type": "display_data"
    }
   ],
   "source": [
    "heart_data.hist(figsize=(16, 20), bins=50, xlabelsize=8, ylabelsize=8)"
   ]
  },
  {
   "cell_type": "markdown",
   "metadata": {},
   "source": [
    "## Feature and target dataset creation <a id=\"4\"></a>"
   ]
  },
  {
   "cell_type": "code",
   "execution_count": 23,
   "metadata": {},
   "outputs": [
    {
     "data": {
      "text/html": [
       "<div>\n",
       "<style scoped>\n",
       "    .dataframe tbody tr th:only-of-type {\n",
       "        vertical-align: middle;\n",
       "    }\n",
       "\n",
       "    .dataframe tbody tr th {\n",
       "        vertical-align: top;\n",
       "    }\n",
       "\n",
       "    .dataframe thead th {\n",
       "        text-align: right;\n",
       "    }\n",
       "</style>\n",
       "<table border=\"1\" class=\"dataframe\">\n",
       "  <thead>\n",
       "    <tr style=\"text-align: right;\">\n",
       "      <th></th>\n",
       "      <th>age</th>\n",
       "      <th>sex</th>\n",
       "      <th>cp</th>\n",
       "      <th>trestbps</th>\n",
       "      <th>chol</th>\n",
       "      <th>fbs</th>\n",
       "      <th>restecg</th>\n",
       "      <th>thalach</th>\n",
       "      <th>exang</th>\n",
       "      <th>oldpeak</th>\n",
       "      <th>slope</th>\n",
       "      <th>ca</th>\n",
       "      <th>thal</th>\n",
       "      <th>target</th>\n",
       "    </tr>\n",
       "  </thead>\n",
       "  <tbody>\n",
       "    <tr>\n",
       "      <th>0</th>\n",
       "      <td>63</td>\n",
       "      <td>1</td>\n",
       "      <td>3</td>\n",
       "      <td>145</td>\n",
       "      <td>233</td>\n",
       "      <td>1</td>\n",
       "      <td>0</td>\n",
       "      <td>150</td>\n",
       "      <td>0</td>\n",
       "      <td>2.3</td>\n",
       "      <td>0</td>\n",
       "      <td>0</td>\n",
       "      <td>1</td>\n",
       "      <td>1</td>\n",
       "    </tr>\n",
       "    <tr>\n",
       "      <th>1</th>\n",
       "      <td>37</td>\n",
       "      <td>1</td>\n",
       "      <td>2</td>\n",
       "      <td>130</td>\n",
       "      <td>250</td>\n",
       "      <td>0</td>\n",
       "      <td>1</td>\n",
       "      <td>187</td>\n",
       "      <td>0</td>\n",
       "      <td>3.5</td>\n",
       "      <td>0</td>\n",
       "      <td>0</td>\n",
       "      <td>2</td>\n",
       "      <td>1</td>\n",
       "    </tr>\n",
       "    <tr>\n",
       "      <th>2</th>\n",
       "      <td>41</td>\n",
       "      <td>0</td>\n",
       "      <td>1</td>\n",
       "      <td>130</td>\n",
       "      <td>204</td>\n",
       "      <td>0</td>\n",
       "      <td>0</td>\n",
       "      <td>172</td>\n",
       "      <td>0</td>\n",
       "      <td>1.4</td>\n",
       "      <td>2</td>\n",
       "      <td>0</td>\n",
       "      <td>2</td>\n",
       "      <td>1</td>\n",
       "    </tr>\n",
       "    <tr>\n",
       "      <th>3</th>\n",
       "      <td>56</td>\n",
       "      <td>1</td>\n",
       "      <td>1</td>\n",
       "      <td>120</td>\n",
       "      <td>236</td>\n",
       "      <td>0</td>\n",
       "      <td>1</td>\n",
       "      <td>178</td>\n",
       "      <td>0</td>\n",
       "      <td>0.8</td>\n",
       "      <td>2</td>\n",
       "      <td>0</td>\n",
       "      <td>2</td>\n",
       "      <td>1</td>\n",
       "    </tr>\n",
       "    <tr>\n",
       "      <th>4</th>\n",
       "      <td>57</td>\n",
       "      <td>0</td>\n",
       "      <td>0</td>\n",
       "      <td>120</td>\n",
       "      <td>354</td>\n",
       "      <td>0</td>\n",
       "      <td>1</td>\n",
       "      <td>163</td>\n",
       "      <td>1</td>\n",
       "      <td>0.6</td>\n",
       "      <td>2</td>\n",
       "      <td>0</td>\n",
       "      <td>2</td>\n",
       "      <td>1</td>\n",
       "    </tr>\n",
       "  </tbody>\n",
       "</table>\n",
       "</div>"
      ],
      "text/plain": [
       "   age  sex  cp  trestbps  chol  fbs  restecg  thalach  exang  oldpeak  slope  \\\n",
       "0   63    1   3       145   233    1        0      150      0      2.3      0   \n",
       "1   37    1   2       130   250    0        1      187      0      3.5      0   \n",
       "2   41    0   1       130   204    0        0      172      0      1.4      2   \n",
       "3   56    1   1       120   236    0        1      178      0      0.8      2   \n",
       "4   57    0   0       120   354    0        1      163      1      0.6      2   \n",
       "\n",
       "   ca  thal  target  \n",
       "0   0     1       1  \n",
       "1   0     2       1  \n",
       "2   0     2       1  \n",
       "3   0     2       1  \n",
       "4   0     2       1  "
      ]
     },
     "execution_count": 23,
     "metadata": {},
     "output_type": "execute_result"
    }
   ],
   "source": [
    "#head to display top 5 rows\n",
    "heart_data.head()"
   ]
  },
  {
   "cell_type": "code",
   "execution_count": 24,
   "metadata": {},
   "outputs": [
    {
     "name": "stdout",
     "output_type": "stream",
     "text": [
      "(303, 13)\n"
     ]
    },
    {
     "data": {
      "text/html": [
       "<div>\n",
       "<style scoped>\n",
       "    .dataframe tbody tr th:only-of-type {\n",
       "        vertical-align: middle;\n",
       "    }\n",
       "\n",
       "    .dataframe tbody tr th {\n",
       "        vertical-align: top;\n",
       "    }\n",
       "\n",
       "    .dataframe thead th {\n",
       "        text-align: right;\n",
       "    }\n",
       "</style>\n",
       "<table border=\"1\" class=\"dataframe\">\n",
       "  <thead>\n",
       "    <tr style=\"text-align: right;\">\n",
       "      <th></th>\n",
       "      <th>age</th>\n",
       "      <th>sex</th>\n",
       "      <th>cp</th>\n",
       "      <th>trestbps</th>\n",
       "      <th>chol</th>\n",
       "      <th>fbs</th>\n",
       "      <th>restecg</th>\n",
       "      <th>thalach</th>\n",
       "      <th>exang</th>\n",
       "      <th>oldpeak</th>\n",
       "      <th>slope</th>\n",
       "      <th>ca</th>\n",
       "      <th>thal</th>\n",
       "    </tr>\n",
       "  </thead>\n",
       "  <tbody>\n",
       "    <tr>\n",
       "      <th>0</th>\n",
       "      <td>63</td>\n",
       "      <td>1</td>\n",
       "      <td>3</td>\n",
       "      <td>145</td>\n",
       "      <td>233</td>\n",
       "      <td>1</td>\n",
       "      <td>0</td>\n",
       "      <td>150</td>\n",
       "      <td>0</td>\n",
       "      <td>2.3</td>\n",
       "      <td>0</td>\n",
       "      <td>0</td>\n",
       "      <td>1</td>\n",
       "    </tr>\n",
       "    <tr>\n",
       "      <th>1</th>\n",
       "      <td>37</td>\n",
       "      <td>1</td>\n",
       "      <td>2</td>\n",
       "      <td>130</td>\n",
       "      <td>250</td>\n",
       "      <td>0</td>\n",
       "      <td>1</td>\n",
       "      <td>187</td>\n",
       "      <td>0</td>\n",
       "      <td>3.5</td>\n",
       "      <td>0</td>\n",
       "      <td>0</td>\n",
       "      <td>2</td>\n",
       "    </tr>\n",
       "    <tr>\n",
       "      <th>2</th>\n",
       "      <td>41</td>\n",
       "      <td>0</td>\n",
       "      <td>1</td>\n",
       "      <td>130</td>\n",
       "      <td>204</td>\n",
       "      <td>0</td>\n",
       "      <td>0</td>\n",
       "      <td>172</td>\n",
       "      <td>0</td>\n",
       "      <td>1.4</td>\n",
       "      <td>2</td>\n",
       "      <td>0</td>\n",
       "      <td>2</td>\n",
       "    </tr>\n",
       "    <tr>\n",
       "      <th>3</th>\n",
       "      <td>56</td>\n",
       "      <td>1</td>\n",
       "      <td>1</td>\n",
       "      <td>120</td>\n",
       "      <td>236</td>\n",
       "      <td>0</td>\n",
       "      <td>1</td>\n",
       "      <td>178</td>\n",
       "      <td>0</td>\n",
       "      <td>0.8</td>\n",
       "      <td>2</td>\n",
       "      <td>0</td>\n",
       "      <td>2</td>\n",
       "    </tr>\n",
       "    <tr>\n",
       "      <th>4</th>\n",
       "      <td>57</td>\n",
       "      <td>0</td>\n",
       "      <td>0</td>\n",
       "      <td>120</td>\n",
       "      <td>354</td>\n",
       "      <td>0</td>\n",
       "      <td>1</td>\n",
       "      <td>163</td>\n",
       "      <td>1</td>\n",
       "      <td>0.6</td>\n",
       "      <td>2</td>\n",
       "      <td>0</td>\n",
       "      <td>2</td>\n",
       "    </tr>\n",
       "  </tbody>\n",
       "</table>\n",
       "</div>"
      ],
      "text/plain": [
       "   age  sex  cp  trestbps  chol  fbs  restecg  thalach  exang  oldpeak  slope  \\\n",
       "0   63    1   3       145   233    1        0      150      0      2.3      0   \n",
       "1   37    1   2       130   250    0        1      187      0      3.5      0   \n",
       "2   41    0   1       130   204    0        0      172      0      1.4      2   \n",
       "3   56    1   1       120   236    0        1      178      0      0.8      2   \n",
       "4   57    0   0       120   354    0        1      163      1      0.6      2   \n",
       "\n",
       "   ca  thal  \n",
       "0   0     1  \n",
       "1   0     2  \n",
       "2   0     2  \n",
       "3   0     2  \n",
       "4   0     2  "
      ]
     },
     "execution_count": 24,
     "metadata": {},
     "output_type": "execute_result"
    }
   ],
   "source": [
    "#Creating feature data from dataset\n",
    "X_df =  heart_data[['age','sex','cp','trestbps','chol','fbs','restecg','thalach','exang','oldpeak','slope','ca','thal']]\n",
    "#Shape of feature data frame\n",
    "print(X_df.shape)\n",
    "\n",
    "#fetching top 5 records of features\n",
    "X_df.head()"
   ]
  },
  {
   "cell_type": "code",
   "execution_count": 25,
   "metadata": {},
   "outputs": [
    {
     "data": {
      "text/html": [
       "<div>\n",
       "<style scoped>\n",
       "    .dataframe tbody tr th:only-of-type {\n",
       "        vertical-align: middle;\n",
       "    }\n",
       "\n",
       "    .dataframe tbody tr th {\n",
       "        vertical-align: top;\n",
       "    }\n",
       "\n",
       "    .dataframe thead th {\n",
       "        text-align: right;\n",
       "    }\n",
       "</style>\n",
       "<table border=\"1\" class=\"dataframe\">\n",
       "  <thead>\n",
       "    <tr style=\"text-align: right;\">\n",
       "      <th></th>\n",
       "      <th>target</th>\n",
       "    </tr>\n",
       "  </thead>\n",
       "  <tbody>\n",
       "    <tr>\n",
       "      <th>0</th>\n",
       "      <td>1</td>\n",
       "    </tr>\n",
       "    <tr>\n",
       "      <th>1</th>\n",
       "      <td>1</td>\n",
       "    </tr>\n",
       "    <tr>\n",
       "      <th>2</th>\n",
       "      <td>1</td>\n",
       "    </tr>\n",
       "    <tr>\n",
       "      <th>3</th>\n",
       "      <td>1</td>\n",
       "    </tr>\n",
       "    <tr>\n",
       "      <th>4</th>\n",
       "      <td>1</td>\n",
       "    </tr>\n",
       "  </tbody>\n",
       "</table>\n",
       "</div>"
      ],
      "text/plain": [
       "   target\n",
       "0       1\n",
       "1       1\n",
       "2       1\n",
       "3       1\n",
       "4       1"
      ]
     },
     "execution_count": 25,
     "metadata": {},
     "output_type": "execute_result"
    }
   ],
   "source": [
    "#Creating target data from  dataset\n",
    "y = heart_data[['target']]\n",
    "\n",
    "#fetching top records of target\n",
    "y.head()"
   ]
  },
  {
   "cell_type": "markdown",
   "metadata": {},
   "source": [
    "## Splitting the data <a id=\"5\"></a>"
   ]
  },
  {
   "cell_type": "code",
   "execution_count": 26,
   "metadata": {},
   "outputs": [],
   "source": [
    "from sklearn.model_selection import train_test_split\n",
    "\n",
    "X_train,X_test, y_train, y_test = train_test_split(X_df,y,test_size=0.20,random_state = 0)"
   ]
  },
  {
   "cell_type": "markdown",
   "metadata": {},
   "source": [
    "### Train, test accuracies and shape"
   ]
  },
  {
   "cell_type": "code",
   "execution_count": 27,
   "metadata": {},
   "outputs": [
    {
     "name": "stdout",
     "output_type": "stream",
     "text": [
      "Training data percentage is 79.87 %\n",
      "Test data percentage is 20.13 %\n",
      "\n",
      "\n",
      "Features train shape(242, 13)\n",
      "Features test shape(61, 13)\n",
      "\n",
      "\n",
      "Target train shape(242, 1)\n",
      "Target test shape(61, 1)\n"
     ]
    }
   ],
   "source": [
    "#Train accuracy percentage\n",
    "print(\"Training data percentage is {:.2f}\".format(len(X_train)/len(heart_data)*100)+\" %\")\n",
    "#Test accuracy percentage\n",
    "print(\"Test data percentage is {:.2f}\".format((len(X_test)/len(heart_data))*100)+\" %\")\n",
    "\n",
    "print(\"\\n\")\n",
    "\n",
    "#Tain and test feature dataset shapes\n",
    "print(\"Features train shape\"+str(X_train.shape))\n",
    "print(\"Features test shape\"+str(X_test.shape))\n",
    "\n",
    "print(\"\\n\")\n",
    "\n",
    "#Tain and test target dataset shapes\n",
    "print(\"Target train shape\"+str(y_train.shape))\n",
    "print(\"Target test shape\"+str(y_test.shape))"
   ]
  },
  {
   "cell_type": "markdown",
   "metadata": {},
   "source": [
    "## Scaling the data <a id=\"6\"></a>"
   ]
  },
  {
   "cell_type": "code",
   "execution_count": 28,
   "metadata": {},
   "outputs": [
    {
     "name": "stdout",
     "output_type": "stream",
     "text": [
      "[0.29166667 0.         0.66666667 0.28571429 0.18937644 0.\n",
      " 0.5        0.71755725 0.         0.03225806 0.5        0.\n",
      " 0.66666667]\n",
      "\n",
      "\n",
      "\n",
      "[0.85416667 1.         0.         0.52040816 0.09930716 0.\n",
      " 0.5        0.41221374 1.         0.41935484 0.         0.\n",
      " 1.        ]\n"
     ]
    }
   ],
   "source": [
    "#importing the MinMaxSclaer from sklearn.preprocessing\n",
    "from sklearn.preprocessing import MinMaxScaler\n",
    "\n",
    "#creating an object of MinMaxScaler\n",
    "mms = MinMaxScaler()\n",
    "\n",
    "#Fitting the training features\n",
    "mms.fit(X_train)\n",
    "\n",
    "#transforming the train features\n",
    "X_train_scaled = mms.transform(X_train)\n",
    "print(X_train_scaled[0])\n",
    "\n",
    "print(\"\\n\\n\")\n",
    "\n",
    "#transforming the test features\n",
    "X_test_scaled = mms.transform(X_test)\n",
    "print(X_test_scaled[0])"
   ]
  },
  {
   "cell_type": "markdown",
   "metadata": {},
   "source": [
    "## Building the model <a id=\"7\"></a>\n",
    "#### Using hyperparameter tuning - 10 Fold Grid Search"
   ]
  },
  {
   "cell_type": "markdown",
   "metadata": {},
   "source": [
    "#### Building the Naive Bayes model <a id=\"7.1\"></a>"
   ]
  },
  {
   "cell_type": "code",
   "execution_count": 29,
   "metadata": {},
   "outputs": [
    {
     "name": "stdout",
     "output_type": "stream",
     "text": [
      "Fitting 10 folds for each of 1 candidates, totalling 10 fits\n"
     ]
    },
    {
     "name": "stderr",
     "output_type": "stream",
     "text": [
      "[Parallel(n_jobs=-1)]: Using backend LokyBackend with 8 concurrent workers.\n",
      "[Parallel(n_jobs=-1)]: Done   6 out of  10 | elapsed:    1.9s remaining:    1.3s\n",
      "[Parallel(n_jobs=-1)]: Done  10 out of  10 | elapsed:    2.0s finished\n"
     ]
    }
   ],
   "source": [
    "#Building the model\n",
    "\n",
    "#Creating an object of Naive Bayes\n",
    "nb = GaussianNB()\n",
    "\n",
    "#Define parameters \n",
    "params_gnb = { }\n",
    "\n",
    "#Instantiate the grid search model\n",
    "grid_search_gnb = GridSearchCV(estimator = nb,\n",
    "                           param_grid = params_gnb,\n",
    "                           scoring = 'accuracy', \n",
    "                           cv = 10,\n",
    "                           n_jobs= -1,\n",
    "                           verbose = 1)\n",
    "\n",
    "#fitting the data\n",
    "grid_search_gnb = grid_search_gnb.fit(X_train_scaled,y_train)\n"
   ]
  },
  {
   "cell_type": "code",
   "execution_count": 30,
   "metadata": {},
   "outputs": [
    {
     "name": "stdout",
     "output_type": "stream",
     "text": [
      "{}\n",
      "\n",
      " Best grid search score for Naive Bayes is 81.02% \n",
      "\n"
     ]
    }
   ],
   "source": [
    "#finding the best parameters\n",
    "best_parameters_gnb = grid_search_gnb.best_params_\n",
    "print(best_parameters_gnb)\n",
    "\n",
    "#calculating best score of the model using best_score method\n",
    "print(\"\\n Best grid search score for Naive Bayes is {:.2f}% \\n\".format(grid_search_gnb.best_score_*100))"
   ]
  },
  {
   "cell_type": "markdown",
   "metadata": {},
   "source": [
    "#### Building the SVM model <a id=\"7.2\"></a>"
   ]
  },
  {
   "cell_type": "code",
   "execution_count": 31,
   "metadata": {},
   "outputs": [
    {
     "name": "stderr",
     "output_type": "stream",
     "text": [
      "[Parallel(n_jobs=-1)]: Using backend LokyBackend with 8 concurrent workers.\n"
     ]
    },
    {
     "name": "stdout",
     "output_type": "stream",
     "text": [
      "Fitting 10 folds for each of 75 candidates, totalling 750 fits\n"
     ]
    },
    {
     "name": "stderr",
     "output_type": "stream",
     "text": [
      "[Parallel(n_jobs=-1)]: Done  56 tasks      | elapsed:    0.1s\n",
      "[Parallel(n_jobs=-1)]: Done 735 out of 750 | elapsed:    1.7s remaining:    0.0s\n",
      "[Parallel(n_jobs=-1)]: Done 750 out of 750 | elapsed:    2.1s finished\n"
     ]
    }
   ],
   "source": [
    "#Building the model\n",
    "\n",
    "#Creating an object of Naive Bayes\n",
    "svc = SVC(random_state=0)\n",
    "\n",
    "#Define parameters \n",
    "params_svm = {\n",
    "            'C': [0.1, 1, 10, 100, 1000],  \n",
    "              'gamma': [1, 0.1, 0.01, 0.001, 0.0001], \n",
    "                'kernel' : ['linear', 'poly','rbf']\n",
    "            }\n",
    "\n",
    "#Instantiate the grid search model\n",
    "grid_search_svm = GridSearchCV(estimator = svc,\n",
    "                           param_grid = params_svm,\n",
    "                           scoring = 'accuracy', \n",
    "                           cv = 10,\n",
    "                           n_jobs= -1,\n",
    "                           verbose = 1)\n",
    "\n",
    "#fitting the data\n",
    "grid_search_svm = grid_search_svm.fit(X_train_scaled,y_train)\n"
   ]
  },
  {
   "cell_type": "code",
   "execution_count": 32,
   "metadata": {},
   "outputs": [
    {
     "name": "stdout",
     "output_type": "stream",
     "text": [
      "Best parameters are {'C': 0.1, 'gamma': 1, 'kernel': 'poly'}\n",
      "\n",
      "Best grid search score for SVC is 83.12% \n",
      "\n"
     ]
    }
   ],
   "source": [
    "#finding the best parameters\n",
    "best_parameters_svm = grid_search_svm.best_params_\n",
    "print(\"Best parameters are \"+str(best_parameters_svm))\n",
    "\n",
    "#calculating best score of the model using best_score method\n",
    "print(\"\\nBest grid search score for SVC is {:.2f}% \\n\".format(grid_search_svm.best_score_*100))"
   ]
  },
  {
   "cell_type": "markdown",
   "metadata": {},
   "source": [
    "#### Building the Decision Tree model <a id=\"7.3\"></a>"
   ]
  },
  {
   "cell_type": "code",
   "execution_count": 33,
   "metadata": {},
   "outputs": [
    {
     "name": "stderr",
     "output_type": "stream",
     "text": [
      "[Parallel(n_jobs=-1)]: Using backend LokyBackend with 8 concurrent workers.\n"
     ]
    },
    {
     "name": "stdout",
     "output_type": "stream",
     "text": [
      "Fitting 10 folds for each of 384 candidates, totalling 3840 fits\n"
     ]
    },
    {
     "name": "stderr",
     "output_type": "stream",
     "text": [
      "[Parallel(n_jobs=-1)]: Done  56 tasks      | elapsed:    0.1s\n",
      "[Parallel(n_jobs=-1)]: Done 3638 tasks      | elapsed:    2.5s\n",
      "[Parallel(n_jobs=-1)]: Done 3840 out of 3840 | elapsed:    2.6s finished\n"
     ]
    }
   ],
   "source": [
    "#Building the model\n",
    "\n",
    "#Define model and parameters \n",
    "tree = DecisionTreeClassifier(random_state=0)\n",
    "\n",
    "params_DT = {\n",
    "            'criterion': ['gini', 'entropy'],\n",
    "             'max_depth': [1, 2, 3, 4, 5, 6, 7, None],\n",
    "             'min_samples_split': [2, 3],\n",
    "             'max_leaf_nodes':[10,15,20],\n",
    "             'min_samples_leaf':[10,15,20,25]\n",
    "            }\n",
    "\n",
    "#Instantiate the grid search model\n",
    "grid_search_dt = GridSearchCV(estimator = tree,\n",
    "                           param_grid = params_DT,\n",
    "                           scoring = 'accuracy', \n",
    "                           cv = 10,\n",
    "                           n_jobs= -1,\n",
    "                           verbose = 1)\n",
    "\n",
    "#fitting the data\n",
    "grid_search_dt = grid_search_dt.fit(X_train_scaled,y_train)\n"
   ]
  },
  {
   "cell_type": "code",
   "execution_count": 34,
   "metadata": {},
   "outputs": [
    {
     "name": "stdout",
     "output_type": "stream",
     "text": [
      "Best parameters are {'criterion': 'entropy', 'max_depth': 4, 'max_leaf_nodes': 15, 'min_samples_leaf': 10, 'min_samples_split': 2}\n",
      "\n",
      "Best grid search score for Decision tree is 79.02% \n",
      "\n"
     ]
    }
   ],
   "source": [
    "#finding the best parameters\n",
    "best_parameters_DT = grid_search_dt.best_params_\n",
    "print(\"Best parameters are \"+str(best_parameters_DT))\n",
    "\n",
    "#calculating best score of the model using best_score method\n",
    "print(\"\\nBest grid search score for Decision tree is {:.2f}% \\n\".format(grid_search_dt.best_score_*100))"
   ]
  },
  {
   "cell_type": "markdown",
   "metadata": {},
   "source": [
    "#### Building the Random Forest model <a id=\"7.4\"></a>"
   ]
  },
  {
   "cell_type": "code",
   "execution_count": 35,
   "metadata": {},
   "outputs": [
    {
     "name": "stderr",
     "output_type": "stream",
     "text": [
      "[Parallel(n_jobs=-1)]: Using backend LokyBackend with 8 concurrent workers.\n"
     ]
    },
    {
     "name": "stdout",
     "output_type": "stream",
     "text": [
      "Fitting 10 folds for each of 60 candidates, totalling 600 fits\n"
     ]
    },
    {
     "name": "stderr",
     "output_type": "stream",
     "text": [
      "[Parallel(n_jobs=-1)]: Done  62 tasks      | elapsed:    1.2s\n",
      "[Parallel(n_jobs=-1)]: Done 296 tasks      | elapsed:   20.6s\n",
      "[Parallel(n_jobs=-1)]: Done 546 tasks      | elapsed:   40.4s\n",
      "[Parallel(n_jobs=-1)]: Done 600 out of 600 | elapsed:   46.8s finished\n"
     ]
    }
   ],
   "source": [
    "#Building the RandomForestClassifier\n",
    "\n",
    "#creating a object of RandomForestClassifier\n",
    "rfc = RandomForestClassifier(random_state = 0)\n",
    "\n",
    "params_rf = {\n",
    "    'n_estimators':[5,10,50,100,200, 1000],\n",
    "    'max_depth':[2,5,10,15,None],\n",
    "    'max_features': ['sqrt', 'log2']\n",
    "    \n",
    "}\n",
    "\n",
    "\n",
    "#Instantiate the grid search model\n",
    "grid_search_rfc = GridSearchCV(estimator = rfc,\n",
    "                           param_grid = params_rf,\n",
    "                           scoring = 'accuracy', \n",
    "                           cv = 10,\n",
    "                           n_jobs= -1,\n",
    "                           verbose = 1)\n",
    "\n",
    "#fitting the data\n",
    "grid_search = grid_search_rfc.fit(X_train_scaled,y_train)"
   ]
  },
  {
   "cell_type": "code",
   "execution_count": 36,
   "metadata": {},
   "outputs": [
    {
     "name": "stdout",
     "output_type": "stream",
     "text": [
      "Best parameters are {'max_depth': 5, 'max_features': 'sqrt', 'n_estimators': 100}\n",
      "\n",
      "Best grid search score for RandomForest is 85.15% \n",
      "\n"
     ]
    }
   ],
   "source": [
    "#finding the best parameters\n",
    "best_parameters_rf = grid_search_rfc.best_params_\n",
    "print(\"Best parameters are \"+str(best_parameters_rf))\n",
    "\n",
    "#calculating best score of the model using best_score method\n",
    "print(\"\\nBest grid search score for RandomForest is {:.2f}% \\n\".format(grid_search_rfc.best_score_*100))"
   ]
  },
  {
   "cell_type": "markdown",
   "metadata": {},
   "source": [
    "#### Building the Ada Boost model <a id=\"7.5\"></a>"
   ]
  },
  {
   "cell_type": "code",
   "execution_count": 37,
   "metadata": {},
   "outputs": [
    {
     "name": "stderr",
     "output_type": "stream",
     "text": [
      "[Parallel(n_jobs=-1)]: Using backend LokyBackend with 8 concurrent workers.\n"
     ]
    },
    {
     "name": "stdout",
     "output_type": "stream",
     "text": [
      "Fitting 10 folds for each of 25 candidates, totalling 250 fits\n"
     ]
    },
    {
     "name": "stderr",
     "output_type": "stream",
     "text": [
      "[Parallel(n_jobs=-1)]: Done  52 tasks      | elapsed:    2.0s\n",
      "[Parallel(n_jobs=-1)]: Done 232 tasks      | elapsed:   19.2s\n",
      "[Parallel(n_jobs=-1)]: Done 250 out of 250 | elapsed:   23.5s finished\n"
     ]
    }
   ],
   "source": [
    "#Building the ADA Boost\n",
    "\n",
    "#creating a object of AdaBoostClassifier\n",
    "abc = AdaBoostClassifier(random_state = 0)\n",
    "\n",
    "params_ada = {\n",
    "    'n_estimators':[10,50,100,200, 1000],\n",
    "    'learning_rate':[0.001,0.01,0.1,0.2,0.5]    \n",
    "}\n",
    "\n",
    "\n",
    "#Instantiate the grid search model\n",
    "grid_search_ada = GridSearchCV(estimator = abc,\n",
    "                           param_grid = params_ada,\n",
    "                           scoring = 'accuracy', \n",
    "                           cv = 10,\n",
    "                           n_jobs= -1,\n",
    "                           verbose = 1)\n",
    "\n",
    "#fitting the data\n",
    "grid_search_ada = grid_search_ada.fit(X_train_scaled,y_train)"
   ]
  },
  {
   "cell_type": "code",
   "execution_count": 38,
   "metadata": {},
   "outputs": [
    {
     "name": "stdout",
     "output_type": "stream",
     "text": [
      "Best parameters are {'learning_rate': 0.5, 'n_estimators': 10}\n",
      "\n",
      "Best grid search score for ADA Boost is 82.68% \n",
      "\n"
     ]
    }
   ],
   "source": [
    "#finding the best parameters\n",
    "best_parameters_ada = grid_search_ada.best_params_\n",
    "print(\"Best parameters are \"+str(best_parameters_ada))\n",
    "\n",
    "#calculating best score of the model using best_score method\n",
    "print(\"\\nBest grid search score for ADA Boost is {:.2f}% \\n\".format(grid_search_ada.best_score_*100))"
   ]
  },
  {
   "cell_type": "markdown",
   "metadata": {},
   "source": [
    "#### Building the KNN model <a id=\"7.6\"></a>"
   ]
  },
  {
   "cell_type": "code",
   "execution_count": 39,
   "metadata": {},
   "outputs": [
    {
     "name": "stderr",
     "output_type": "stream",
     "text": [
      "[Parallel(n_jobs=-1)]: Using backend LokyBackend with 8 concurrent workers.\n"
     ]
    },
    {
     "name": "stdout",
     "output_type": "stream",
     "text": [
      "Fitting 10 folds for each of 60 candidates, totalling 600 fits\n"
     ]
    },
    {
     "name": "stderr",
     "output_type": "stream",
     "text": [
      "[Parallel(n_jobs=-1)]: Done  52 tasks      | elapsed:    0.9s\n",
      "[Parallel(n_jobs=-1)]: Done 352 tasks      | elapsed:    5.4s\n",
      "[Parallel(n_jobs=-1)]: Done 600 out of 600 | elapsed:    9.3s finished\n"
     ]
    }
   ],
   "source": [
    "#Building the KNN model\n",
    "#Importing the KNN from sklearn.neighbors\n",
    "from sklearn.neighbors import KNeighborsClassifier\n",
    "\n",
    "\n",
    "#creating a object of KNN\n",
    "knn = KNeighborsClassifier(n_jobs=-1)\n",
    "\n",
    "params_knn = {\n",
    "    'n_neighbors':range(1,21,2),\n",
    "    'weights':['uniform', 'distance'],\n",
    "    'metric':['euclidean', 'manhattan', 'minkowski']\n",
    "}\n",
    "\n",
    "\n",
    "#Instantiate the grid search model\n",
    "grid_search_knn = GridSearchCV(estimator = knn,\n",
    "                           param_grid = params_knn,\n",
    "                           scoring = 'accuracy', \n",
    "                           cv = 10,\n",
    "                           n_jobs= -1,\n",
    "                           verbose = 1)\n",
    "\n",
    "#fitting the data\n",
    "grid_search_knn = grid_search_knn.fit(X_train_scaled,y_train)"
   ]
  },
  {
   "cell_type": "code",
   "execution_count": 40,
   "metadata": {},
   "outputs": [
    {
     "name": "stdout",
     "output_type": "stream",
     "text": [
      "Best parameters are {'metric': 'manhattan', 'n_neighbors': 9, 'weights': 'distance'}\n",
      "\n",
      "Best grid search score for KNN is 83.90% \n",
      "\n"
     ]
    }
   ],
   "source": [
    "#finding the best parameters\n",
    "best_parameters_knn = grid_search_knn.best_params_\n",
    "print(\"Best parameters are \"+str(best_parameters_knn))\n",
    "\n",
    "#calculating best score of the model using best_score method\n",
    "print(\"\\nBest grid search score for KNN is {:.2f}% \\n\".format(grid_search_knn.best_score_*100))"
   ]
  },
  {
   "cell_type": "markdown",
   "metadata": {},
   "source": [
    "#### Building the Multilayer perceptron model <a id=\"7.7\"></a>"
   ]
  },
  {
   "cell_type": "code",
   "execution_count": 41,
   "metadata": {},
   "outputs": [
    {
     "name": "stderr",
     "output_type": "stream",
     "text": [
      "[Parallel(n_jobs=-1)]: Using backend LokyBackend with 8 concurrent workers.\n"
     ]
    },
    {
     "name": "stdout",
     "output_type": "stream",
     "text": [
      "Fitting 10 folds for each of 135 candidates, totalling 1350 fits\n"
     ]
    },
    {
     "name": "stderr",
     "output_type": "stream",
     "text": [
      "[Parallel(n_jobs=-1)]: Done  34 tasks      | elapsed:    1.8s\n",
      "[Parallel(n_jobs=-1)]: Done 184 tasks      | elapsed:    8.5s\n",
      "[Parallel(n_jobs=-1)]: Done 434 tasks      | elapsed:   20.8s\n",
      "[Parallel(n_jobs=-1)]: Done 784 tasks      | elapsed:   41.9s\n",
      "[Parallel(n_jobs=-1)]: Done 1234 tasks      | elapsed:  1.0min\n",
      "[Parallel(n_jobs=-1)]: Done 1350 out of 1350 | elapsed:  1.1min finished\n"
     ]
    }
   ],
   "source": [
    "#Building the MLP\n",
    "\n",
    "#creating a object of MLPClassifier\n",
    "mlp = MLPClassifier(random_state = 0)\n",
    "\n",
    "#paramter grid\n",
    "params_mlp = {\n",
    "    'activation': ['tanh', 'relu','logistic'],\n",
    "    'solver': ['sgd', 'adam','lbfgs'],\n",
    "    'alpha': [0.0001,0.01,0.1,0.2, 0.05],\n",
    "    'learning_rate': ['constant','adaptive','invscaling']\n",
    "    }\n",
    "\n",
    "\n",
    "#Instantiate the grid search model\n",
    "grid_search_mlp = GridSearchCV(estimator = mlp,\n",
    "                           param_grid = params_mlp,\n",
    "                           scoring = 'accuracy', \n",
    "                           cv = 10,\n",
    "                           n_jobs= -1,\n",
    "                           verbose = 1)\n",
    "#fitting the data\n",
    "grid_search_mlp = grid_search_mlp.fit(X_train_scaled,y_train)"
   ]
  },
  {
   "cell_type": "code",
   "execution_count": 42,
   "metadata": {},
   "outputs": [
    {
     "name": "stdout",
     "output_type": "stream",
     "text": [
      "Best parameters are {'activation': 'logistic', 'alpha': 0.1, 'learning_rate': 'constant', 'solver': 'lbfgs'}\n",
      "\n",
      "Best grid search score for MLP is 83.90% \n",
      "\n"
     ]
    }
   ],
   "source": [
    "#finding the best parameters\n",
    "best_parameters_mlp = grid_search_mlp.best_params_\n",
    "print(\"Best parameters are \"+str(best_parameters_mlp))\n",
    "\n",
    "#calculating best score of the model using best_score method\n",
    "print(\"\\nBest grid search score for MLP is {:.2f}% \\n\".format(grid_search_knn.best_score_*100))"
   ]
  },
  {
   "cell_type": "markdown",
   "metadata": {},
   "source": [
    "#### Building C 4.5 model <a id=\"7.8\"></a>"
   ]
  },
  {
   "cell_type": "code",
   "execution_count": 43,
   "metadata": {},
   "outputs": [
    {
     "data": {
      "text/html": [
       "<div>\n",
       "<style scoped>\n",
       "    .dataframe tbody tr th:only-of-type {\n",
       "        vertical-align: middle;\n",
       "    }\n",
       "\n",
       "    .dataframe tbody tr th {\n",
       "        vertical-align: top;\n",
       "    }\n",
       "\n",
       "    .dataframe thead th {\n",
       "        text-align: right;\n",
       "    }\n",
       "</style>\n",
       "<table border=\"1\" class=\"dataframe\">\n",
       "  <thead>\n",
       "    <tr style=\"text-align: right;\">\n",
       "      <th></th>\n",
       "      <th>age</th>\n",
       "      <th>sex</th>\n",
       "      <th>cp</th>\n",
       "      <th>trestbps</th>\n",
       "      <th>chol</th>\n",
       "      <th>fbs</th>\n",
       "      <th>restecg</th>\n",
       "      <th>thalach</th>\n",
       "      <th>exang</th>\n",
       "      <th>oldpeak</th>\n",
       "      <th>slope</th>\n",
       "      <th>ca</th>\n",
       "      <th>thal</th>\n",
       "      <th>Decision</th>\n",
       "    </tr>\n",
       "  </thead>\n",
       "  <tbody>\n",
       "    <tr>\n",
       "      <th>0</th>\n",
       "      <td>63</td>\n",
       "      <td>1</td>\n",
       "      <td>3</td>\n",
       "      <td>145</td>\n",
       "      <td>233</td>\n",
       "      <td>1</td>\n",
       "      <td>0</td>\n",
       "      <td>150</td>\n",
       "      <td>0</td>\n",
       "      <td>2.3</td>\n",
       "      <td>0</td>\n",
       "      <td>0</td>\n",
       "      <td>1</td>\n",
       "      <td>1</td>\n",
       "    </tr>\n",
       "    <tr>\n",
       "      <th>1</th>\n",
       "      <td>37</td>\n",
       "      <td>1</td>\n",
       "      <td>2</td>\n",
       "      <td>130</td>\n",
       "      <td>250</td>\n",
       "      <td>0</td>\n",
       "      <td>1</td>\n",
       "      <td>187</td>\n",
       "      <td>0</td>\n",
       "      <td>3.5</td>\n",
       "      <td>0</td>\n",
       "      <td>0</td>\n",
       "      <td>2</td>\n",
       "      <td>1</td>\n",
       "    </tr>\n",
       "    <tr>\n",
       "      <th>2</th>\n",
       "      <td>41</td>\n",
       "      <td>0</td>\n",
       "      <td>1</td>\n",
       "      <td>130</td>\n",
       "      <td>204</td>\n",
       "      <td>0</td>\n",
       "      <td>0</td>\n",
       "      <td>172</td>\n",
       "      <td>0</td>\n",
       "      <td>1.4</td>\n",
       "      <td>2</td>\n",
       "      <td>0</td>\n",
       "      <td>2</td>\n",
       "      <td>1</td>\n",
       "    </tr>\n",
       "    <tr>\n",
       "      <th>3</th>\n",
       "      <td>56</td>\n",
       "      <td>1</td>\n",
       "      <td>1</td>\n",
       "      <td>120</td>\n",
       "      <td>236</td>\n",
       "      <td>0</td>\n",
       "      <td>1</td>\n",
       "      <td>178</td>\n",
       "      <td>0</td>\n",
       "      <td>0.8</td>\n",
       "      <td>2</td>\n",
       "      <td>0</td>\n",
       "      <td>2</td>\n",
       "      <td>1</td>\n",
       "    </tr>\n",
       "    <tr>\n",
       "      <th>4</th>\n",
       "      <td>57</td>\n",
       "      <td>0</td>\n",
       "      <td>0</td>\n",
       "      <td>120</td>\n",
       "      <td>354</td>\n",
       "      <td>0</td>\n",
       "      <td>1</td>\n",
       "      <td>163</td>\n",
       "      <td>1</td>\n",
       "      <td>0.6</td>\n",
       "      <td>2</td>\n",
       "      <td>0</td>\n",
       "      <td>2</td>\n",
       "      <td>1</td>\n",
       "    </tr>\n",
       "  </tbody>\n",
       "</table>\n",
       "</div>"
      ],
      "text/plain": [
       "   age  sex  cp  trestbps  chol  fbs  restecg  thalach  exang  oldpeak  slope  \\\n",
       "0   63    1   3       145   233    1        0      150      0      2.3      0   \n",
       "1   37    1   2       130   250    0        1      187      0      3.5      0   \n",
       "2   41    0   1       130   204    0        0      172      0      1.4      2   \n",
       "3   56    1   1       120   236    0        1      178      0      0.8      2   \n",
       "4   57    0   0       120   354    0        1      163      1      0.6      2   \n",
       "\n",
       "   ca  thal  Decision  \n",
       "0   0     1         1  \n",
       "1   0     2         1  \n",
       "2   0     2         1  \n",
       "3   0     2         1  \n",
       "4   0     2         1  "
      ]
     },
     "execution_count": 43,
     "metadata": {},
     "output_type": "execute_result"
    }
   ],
   "source": [
    "heart_data.rename(columns={'target': 'Decision'}, inplace=True)\n",
    "heart_data.head()"
   ]
  },
  {
   "cell_type": "code",
   "execution_count": 44,
   "metadata": {},
   "outputs": [
    {
     "name": "stdout",
     "output_type": "stream",
     "text": [
      "Regression  tree is going to be built...\n",
      "MAE:  0.07150715071507151\n",
      "RMSE:  0.193400466323216\n",
      "Mean:  0.5445544554455446\n",
      "MAE / Mean:  13.13131313131313 %\n",
      "RMSE / Mean:  35.51535836117239 %\n",
      "finished in  1.7439780235290527  seconds\n"
     ]
    }
   ],
   "source": [
    "#Building the model\n",
    "\n",
    "from chefboost import Chefboost as chef\n",
    "config = {'algorithm': 'C4.5'}\n",
    "model = chef.fit(heart_data, config)"
   ]
  },
  {
   "cell_type": "code",
   "execution_count": 45,
   "metadata": {},
   "outputs": [
    {
     "data": {
      "text/html": [
       "<div>\n",
       "<style scoped>\n",
       "    .dataframe tbody tr th:only-of-type {\n",
       "        vertical-align: middle;\n",
       "    }\n",
       "\n",
       "    .dataframe tbody tr th {\n",
       "        vertical-align: top;\n",
       "    }\n",
       "\n",
       "    .dataframe thead th {\n",
       "        text-align: right;\n",
       "    }\n",
       "</style>\n",
       "<table border=\"1\" class=\"dataframe\">\n",
       "  <thead>\n",
       "    <tr style=\"text-align: right;\">\n",
       "      <th></th>\n",
       "      <th>age</th>\n",
       "      <th>sex</th>\n",
       "      <th>cp</th>\n",
       "      <th>trestbps</th>\n",
       "      <th>chol</th>\n",
       "      <th>fbs</th>\n",
       "      <th>restecg</th>\n",
       "      <th>thalach</th>\n",
       "      <th>exang</th>\n",
       "      <th>oldpeak</th>\n",
       "      <th>slope</th>\n",
       "      <th>ca</th>\n",
       "      <th>thal</th>\n",
       "      <th>Decision</th>\n",
       "    </tr>\n",
       "  </thead>\n",
       "  <tbody>\n",
       "    <tr>\n",
       "      <th>0</th>\n",
       "      <td>&gt;54</td>\n",
       "      <td>&gt;0</td>\n",
       "      <td>&gt;0</td>\n",
       "      <td>&gt;106</td>\n",
       "      <td>&lt;=245</td>\n",
       "      <td>&gt;0</td>\n",
       "      <td>&lt;=0</td>\n",
       "      <td>&gt;147</td>\n",
       "      <td>&lt;=0</td>\n",
       "      <td>&gt;1.6</td>\n",
       "      <td>&lt;=1</td>\n",
       "      <td>&lt;=0</td>\n",
       "      <td>&lt;=2</td>\n",
       "      <td>1</td>\n",
       "    </tr>\n",
       "    <tr>\n",
       "      <th>1</th>\n",
       "      <td>&lt;=54</td>\n",
       "      <td>&gt;0</td>\n",
       "      <td>&gt;0</td>\n",
       "      <td>&gt;106</td>\n",
       "      <td>&gt;245</td>\n",
       "      <td>&lt;=0</td>\n",
       "      <td>&gt;0</td>\n",
       "      <td>&gt;147</td>\n",
       "      <td>&lt;=0</td>\n",
       "      <td>&gt;1.6</td>\n",
       "      <td>&lt;=1</td>\n",
       "      <td>&lt;=0</td>\n",
       "      <td>&lt;=2</td>\n",
       "      <td>1</td>\n",
       "    </tr>\n",
       "    <tr>\n",
       "      <th>2</th>\n",
       "      <td>&lt;=54</td>\n",
       "      <td>&lt;=0</td>\n",
       "      <td>&gt;0</td>\n",
       "      <td>&gt;106</td>\n",
       "      <td>&lt;=245</td>\n",
       "      <td>&lt;=0</td>\n",
       "      <td>&lt;=0</td>\n",
       "      <td>&gt;147</td>\n",
       "      <td>&lt;=0</td>\n",
       "      <td>&lt;=1.6</td>\n",
       "      <td>&gt;1</td>\n",
       "      <td>&lt;=0</td>\n",
       "      <td>&lt;=2</td>\n",
       "      <td>1</td>\n",
       "    </tr>\n",
       "    <tr>\n",
       "      <th>3</th>\n",
       "      <td>&gt;54</td>\n",
       "      <td>&gt;0</td>\n",
       "      <td>&gt;0</td>\n",
       "      <td>&gt;106</td>\n",
       "      <td>&lt;=245</td>\n",
       "      <td>&lt;=0</td>\n",
       "      <td>&gt;0</td>\n",
       "      <td>&gt;147</td>\n",
       "      <td>&lt;=0</td>\n",
       "      <td>&lt;=1.6</td>\n",
       "      <td>&gt;1</td>\n",
       "      <td>&lt;=0</td>\n",
       "      <td>&lt;=2</td>\n",
       "      <td>1</td>\n",
       "    </tr>\n",
       "    <tr>\n",
       "      <th>4</th>\n",
       "      <td>&gt;54</td>\n",
       "      <td>&lt;=0</td>\n",
       "      <td>&lt;=0</td>\n",
       "      <td>&gt;106</td>\n",
       "      <td>&gt;245</td>\n",
       "      <td>&lt;=0</td>\n",
       "      <td>&gt;0</td>\n",
       "      <td>&gt;147</td>\n",
       "      <td>&gt;0</td>\n",
       "      <td>&lt;=1.6</td>\n",
       "      <td>&gt;1</td>\n",
       "      <td>&lt;=0</td>\n",
       "      <td>&lt;=2</td>\n",
       "      <td>1</td>\n",
       "    </tr>\n",
       "  </tbody>\n",
       "</table>\n",
       "</div>"
      ],
      "text/plain": [
       "    age  sex   cp trestbps   chol  fbs restecg thalach exang oldpeak slope  \\\n",
       "0   >54   >0   >0     >106  <=245   >0     <=0    >147   <=0    >1.6   <=1   \n",
       "1  <=54   >0   >0     >106   >245  <=0      >0    >147   <=0    >1.6   <=1   \n",
       "2  <=54  <=0   >0     >106  <=245  <=0     <=0    >147   <=0   <=1.6    >1   \n",
       "3   >54   >0   >0     >106  <=245  <=0      >0    >147   <=0   <=1.6    >1   \n",
       "4   >54  <=0  <=0     >106   >245  <=0      >0    >147    >0   <=1.6    >1   \n",
       "\n",
       "    ca thal  Decision  \n",
       "0  <=0  <=2         1  \n",
       "1  <=0  <=2         1  \n",
       "2  <=0  <=2         1  \n",
       "3  <=0  <=2         1  \n",
       "4  <=0  <=2         1  "
      ]
     },
     "execution_count": 45,
     "metadata": {},
     "output_type": "execute_result"
    }
   ],
   "source": [
    "heart_data.head()"
   ]
  },
  {
   "cell_type": "markdown",
   "metadata": {},
   "source": [
    "## Evaluating the model <a id=\"8\"></a>\n",
    "\n",
    "- Each model will be evaluated based on 5 different methods;\n",
    " - Train Test Accuracy \n",
    " - Confusion Matrix\n",
    " - Classification Report \n",
    " - AUC Value (Area Under Curve)\n",
    " - ROC Curve (Receiver Operating characteristics)"
   ]
  },
  {
   "cell_type": "markdown",
   "metadata": {},
   "source": [
    "### Train Test Accuracy"
   ]
  },
  {
   "cell_type": "code",
   "execution_count": 46,
   "metadata": {},
   "outputs": [],
   "source": [
    "train_accuracies = []\n",
    "test_accuracies = []"
   ]
  },
  {
   "cell_type": "markdown",
   "metadata": {},
   "source": [
    "#### Evaluating c 4.5 model"
   ]
  },
  {
   "cell_type": "markdown",
   "metadata": {},
   "source": [
    "#### Evaluating the Naive Bayes model"
   ]
  },
  {
   "cell_type": "code",
   "execution_count": 47,
   "metadata": {},
   "outputs": [
    {
     "name": "stdout",
     "output_type": "stream",
     "text": [
      "[0 1 1 0 0]\n"
     ]
    }
   ],
   "source": [
    "#predicting target for Naive bayes\n",
    "y_pred_nb = grid_search_gnb.predict(X_test_scaled)\n",
    "print(y_pred_nb[0:5])"
   ]
  },
  {
   "cell_type": "markdown",
   "metadata": {},
   "source": [
    "#### Train Test accuracy for Naive Bayes Model"
   ]
  },
  {
   "cell_type": "code",
   "execution_count": 48,
   "metadata": {},
   "outputs": [
    {
     "name": "stdout",
     "output_type": "stream",
     "text": [
      "Train accuracy of Naive Bayes 83.47%\n",
      "Test accuracy of Naive Bayes 85.25%\n",
      "\n",
      "\n",
      " Classification report for Naive Bayes:\n",
      "              precision    recall  f1-score   support\n",
      "\n",
      "           0       0.88      0.78      0.82        27\n",
      "           1       0.84      0.91      0.87        34\n",
      "\n",
      "    accuracy                           0.85        61\n",
      "   macro avg       0.86      0.84      0.85        61\n",
      "weighted avg       0.85      0.85      0.85        61\n",
      "\n",
      "\n",
      "\n",
      "  Confusion Matrix for Naive Bayes:\n"
     ]
    },
    {
     "data": {
      "image/png": "[encoded data removed]",
      "text/plain": [
       "<Figure size 432x288 with 2 Axes>"
      ]
     },
     "metadata": {
      "needs_background": "light"
     },
     "output_type": "display_data"
    },
    {
     "name": "stdout",
     "output_type": "stream",
     "text": [
      "AUC value i.e Area Under Curve \n",
      "\n",
      "\n",
      "Area Under the Curve = 0.8447712418300652 \n",
      "\n",
      "\n",
      "ROC Curve \n",
      "\n",
      "\n"
     ]
    },
    {
     "data": {
      "image/png": "[encoded data removed]",
      "text/plain": [
       "<Figure size 432x288 with 1 Axes>"
      ]
     },
     "metadata": {
      "needs_background": "light"
     },
     "output_type": "display_data"
    }
   ],
   "source": [
    "#importing accuracy_score from sklearn.metrics\n",
    "#The accuracy score which helps in calculating the train and test accuracy based on the number of correctly classified data\n",
    "from sklearn.metrics import accuracy_score\n",
    "\n",
    "#calculating train accuracy for Naive Bayes\n",
    "train_nb_accuracy = grid_search_gnb.score(X_train_scaled,y_train)\n",
    "print(\"Train accuracy of Naive Bayes {:.2f}%\".format(train_nb_accuracy*100))\n",
    "train_accuracies.append(train_nb_accuracy)\n",
    "\n",
    "#calculating test accuracy for Naive Bayes\n",
    "test_nb_accuracy = accuracy_score(y_test,y_pred_nb)\n",
    "print(\"Test accuracy of Naive Bayes {:.2f}%\".format(test_nb_accuracy*100))\n",
    "test_accuracies.append(test_nb_accuracy)\n",
    "\n",
    "#importing the classification report and confusin matrix from sklearn.metric\n",
    "from sklearn.metrics import classification_report,confusion_matrix\n",
    "\n",
    "clf = classification_report(y_test,y_pred_nb)\n",
    "print(\"\\n\\n Classification report for Naive Bayes:\")\n",
    "print(clf)\n",
    "\n",
    "from sklearn.metrics import plot_confusion_matrix\n",
    "print(\"\\n\\n  Confusion Matrix for Naive Bayes:\")\n",
    "plot_confusion_matrix(grid_search_gnb,X_test_scaled, y_test,cmap=plt.cm.Blues)\n",
    "plt.show()\n",
    "\n",
    "#Calculate AUC Value\n",
    "print(\"AUC value i.e Area Under Curve \\n\\n\")\n",
    "auc_gnb = roc_auc_score(y_test,y_pred_nb)\n",
    "print(\"Area Under the Curve = %s \\n\\n\" %auc_gnb)\n",
    "\n",
    "#Plot ROC Curve\n",
    "print(\"ROC Curve \\n\\n\")\n",
    "\n",
    "# generate a no skill prediction (majority class)\n",
    "ns_probs = [0 for _ in range(len(y_test))]\n",
    "\n",
    "\n",
    "fpr_dt, tpr_dt, _ = roc_curve(y_test,y_pred_nb)                    # to plot random chances\n",
    "ns_fpr,ns_tpr, _ = roc_curve(y_test, ns_probs)                       # to plot roc curve for the model\n",
    "\n",
    "\n",
    "\n",
    "# plot the roc curve for the model\n",
    "plt.plot(ns_fpr, ns_tpr, linestyle='--', label='Random Chances',color='Blue') # plot the random chances for the model\n",
    "plt.plot(fpr_dt, tpr_dt, marker='.', label='ROC Curve',color='Red')# plot the roc curve for the model\n",
    "# axis labels\n",
    "plt.xlabel('False Positive Rate',fontsize=20)\n",
    "plt.ylabel('True Positive Rate',fontsize=20)\n",
    "plt.title('Receiver Operating Characteristics',fontsize=20,color='green')\n",
    "plt.legend()\n",
    "plt.grid()"
   ]
  },
  {
   "cell_type": "markdown",
   "metadata": {},
   "source": [
    "#### Evaluating the SVM model"
   ]
  },
  {
   "cell_type": "code",
   "execution_count": 49,
   "metadata": {},
   "outputs": [
    {
     "name": "stdout",
     "output_type": "stream",
     "text": [
      "[0 1 1 0 0]\n"
     ]
    }
   ],
   "source": [
    "#predicting target for SVC\n",
    "y_pred_svc = grid_search_svm.predict(X_test_scaled)\n",
    "print(y_pred_svc[0:5])"
   ]
  },
  {
   "cell_type": "markdown",
   "metadata": {},
   "source": [
    "#### Train Test accuracy for SVC Model"
   ]
  },
  {
   "cell_type": "code",
   "execution_count": 50,
   "metadata": {},
   "outputs": [
    {
     "name": "stdout",
     "output_type": "stream",
     "text": [
      "Train accuracy of SVC 90.08%\n",
      "Test accuracy of SVC 85.25%\n",
      "\n",
      "\n",
      " Classification report for SVC:\n",
      "              precision    recall  f1-score   support\n",
      "\n",
      "           0       0.88      0.78      0.82        27\n",
      "           1       0.84      0.91      0.87        34\n",
      "\n",
      "    accuracy                           0.85        61\n",
      "   macro avg       0.86      0.84      0.85        61\n",
      "weighted avg       0.85      0.85      0.85        61\n",
      "\n",
      "\n",
      "\n",
      "  Confusion Matrix for SVC:\n"
     ]
    },
    {
     "data": {
      "image/png": "[encoded data removed]",
      "text/plain": [
       "<Figure size 432x288 with 2 Axes>"
      ]
     },
     "metadata": {
      "needs_background": "light"
     },
     "output_type": "display_data"
    },
    {
     "name": "stdout",
     "output_type": "stream",
     "text": [
      "AUC value i.e Area Under Curve \n",
      "\n",
      "\n",
      "Area Under the Curve = 0.8447712418300652 \n",
      "\n",
      "\n",
      "ROC Curve \n",
      "\n",
      "\n"
     ]
    },
    {
     "data": {
      "image/png": "[encoded data removed]",
      "text/plain": [
       "<Figure size 432x288 with 1 Axes>"
      ]
     },
     "metadata": {
      "needs_background": "light"
     },
     "output_type": "display_data"
    }
   ],
   "source": [
    "#importing accuracy_score from sklearn.metrics\n",
    "#The accuracy score which helps in calculating the train and test accuracy based on the number of correctly classified data\n",
    "from sklearn.metrics import accuracy_score\n",
    "\n",
    "#calculating train accuracy for SVC\n",
    "train_svc_accuracy = grid_search_svm.score(X_train_scaled,y_train)\n",
    "print(\"Train accuracy of SVC {:.2f}%\".format(train_svc_accuracy*100))\n",
    "train_accuracies.append(train_svc_accuracy)\n",
    "\n",
    "#calculating test accuracy for svc\n",
    "test_svc_accuracy = accuracy_score(y_test,y_pred_svc)\n",
    "print(\"Test accuracy of SVC {:.2f}%\".format(test_svc_accuracy*100))\n",
    "test_accuracies.append(test_svc_accuracy)\n",
    "\n",
    "#importing the classification report and confusin matrix from sklearn.metric\n",
    "from sklearn.metrics import classification_report,confusion_matrix\n",
    "\n",
    "clf = classification_report(y_test,y_pred_svc)\n",
    "print(\"\\n\\n Classification report for SVC:\")\n",
    "print(clf)\n",
    "\n",
    "from sklearn.metrics import plot_confusion_matrix\n",
    "print(\"\\n\\n  Confusion Matrix for SVC:\")\n",
    "plot_confusion_matrix(grid_search_svm,X_test_scaled, y_test,cmap=plt.cm.Blues)\n",
    "plt.show()\n",
    "\n",
    "#Calculate AUC Value\n",
    "print(\"AUC value i.e Area Under Curve \\n\\n\")\n",
    "auc_svc = roc_auc_score(y_test,y_pred_svc)\n",
    "print(\"Area Under the Curve = %s \\n\\n\" %auc_svc)\n",
    "\n",
    "#Plot ROC Curve\n",
    "print(\"ROC Curve \\n\\n\")\n",
    "\n",
    "# generate a no skill prediction (majority class)\n",
    "ns_probs = [0 for _ in range(len(y_test))]\n",
    "\n",
    "\n",
    "fpr_dt, tpr_dt, _ = roc_curve(y_test,y_pred_svc)                    # to plot random chances\n",
    "ns_fpr,ns_tpr, _ = roc_curve(y_test, ns_probs)                       # to plot roc curve for the model\n",
    "\n",
    "\n",
    "\n",
    "# plot the roc curve for the model\n",
    "plt.plot(ns_fpr, ns_tpr, linestyle='--', label='Random Chances',color='Blue') # plot the random chances for the model\n",
    "plt.plot(fpr_dt, tpr_dt, marker='.', label='ROC Curve',color='Red')# plot the roc curve for the model\n",
    "# axis labels\n",
    "plt.xlabel('False Positive Rate',fontsize=20)\n",
    "plt.ylabel('True Positive Rate',fontsize=20)\n",
    "plt.title('Receiver Operating Characteristics',fontsize=20,color='green')\n",
    "plt.legend()\n",
    "plt.grid()"
   ]
  },
  {
   "cell_type": "markdown",
   "metadata": {},
   "source": [
    "#### Evaluating the DecisionTree model"
   ]
  },
  {
   "cell_type": "code",
   "execution_count": 51,
   "metadata": {},
   "outputs": [
    {
     "name": "stdout",
     "output_type": "stream",
     "text": [
      "[0 1 0 0 1]\n"
     ]
    }
   ],
   "source": [
    "#predicting target for DecisionTree\n",
    "y_pred_tree = grid_search_dt.predict(X_test_scaled)\n",
    "print(y_pred_tree[0:5])"
   ]
  },
  {
   "cell_type": "markdown",
   "metadata": {},
   "source": [
    "#### Train Test accuracy for Decision tree Model"
   ]
  },
  {
   "cell_type": "code",
   "execution_count": 52,
   "metadata": {},
   "outputs": [
    {
     "name": "stdout",
     "output_type": "stream",
     "text": [
      "Train accuracy of Decision tree 85.54%\n",
      "Test accuracy of Decision tree 81.97%\n",
      "\n",
      "\n",
      " Classification report for Decision Tree:\n",
      "              precision    recall  f1-score   support\n",
      "\n",
      "           0       0.79      0.81      0.80        27\n",
      "           1       0.85      0.82      0.84        34\n",
      "\n",
      "    accuracy                           0.82        61\n",
      "   macro avg       0.82      0.82      0.82        61\n",
      "weighted avg       0.82      0.82      0.82        61\n",
      "\n",
      "\n",
      "\n",
      "  Confusion Matrix for Decision Tree:\n"
     ]
    },
    {
     "data": {
      "image/png": "[encoded data removed]",
      "text/plain": [
       "<Figure size 432x288 with 2 Axes>"
      ]
     },
     "metadata": {
      "needs_background": "light"
     },
     "output_type": "display_data"
    },
    {
     "name": "stdout",
     "output_type": "stream",
     "text": [
      "AUC value i.e Area Under Curve \n",
      "\n",
      "\n",
      "Area Under the Curve = 0.8191721132897605 \n",
      "\n",
      "\n",
      "ROC Curve \n",
      "\n",
      "\n"
     ]
    },
    {
     "data": {
      "image/png": "[encoded data removed]",
      "text/plain": [
       "<Figure size 432x288 with 1 Axes>"
      ]
     },
     "metadata": {
      "needs_background": "light"
     },
     "output_type": "display_data"
    }
   ],
   "source": [
    "#importing accuracy_score from sklearn.metrics\n",
    "#The accuracy score which helps in calculating the train and test accuracy based on the number of correctly classified data\n",
    "from sklearn.metrics import accuracy_score\n",
    "\n",
    "#calculating train accuracy for Decision tree\n",
    "train_tree_accuracy = grid_search_dt.score(X_train_scaled,y_train)\n",
    "print(\"Train accuracy of Decision tree {:.2f}%\".format(train_tree_accuracy*100))\n",
    "train_accuracies.append(train_tree_accuracy)\n",
    "\n",
    "#calculating test accuracy for Decision tree\n",
    "test_tree_accuracy = accuracy_score(y_test,y_pred_tree)\n",
    "print(\"Test accuracy of Decision tree {:.2f}%\".format(test_tree_accuracy*100))\n",
    "test_accuracies.append(test_tree_accuracy)\n",
    "\n",
    "#importing the classification report and confusin matrix from sklearn.metric\n",
    "from sklearn.metrics import classification_report,confusion_matrix\n",
    "\n",
    "clf = classification_report(y_test,y_pred_tree)\n",
    "print(\"\\n\\n Classification report for Decision Tree:\")\n",
    "print(clf)\n",
    "\n",
    "from sklearn.metrics import plot_confusion_matrix\n",
    "print(\"\\n\\n  Confusion Matrix for Decision Tree:\")\n",
    "plot_confusion_matrix(grid_search_dt,X_test_scaled, y_test,cmap=plt.cm.Blues)\n",
    "plt.show()\n",
    "\n",
    "#Calculate AUC Value\n",
    "print(\"AUC value i.e Area Under Curve \\n\\n\")\n",
    "auc_gnb = roc_auc_score(y_test,y_pred_tree)\n",
    "print(\"Area Under the Curve = %s \\n\\n\" %auc_gnb)\n",
    "\n",
    "#Plot ROC Curve\n",
    "print(\"ROC Curve \\n\\n\")\n",
    "\n",
    "# generate a no skill prediction (majority class)\n",
    "ns_probs = [0 for _ in range(len(y_test))]\n",
    "\n",
    "\n",
    "fpr_dt, tpr_dt, _ = roc_curve(y_test,y_pred_tree)                    # to plot random chances\n",
    "ns_fpr,ns_tpr, _ = roc_curve(y_test, ns_probs)                       # to plot roc curve for the model\n",
    "\n",
    "\n",
    "\n",
    "# plot the roc curve for the model\n",
    "plt.plot(ns_fpr, ns_tpr, linestyle='--', label='Random Chances',color='Blue') # plot the random chances for the model\n",
    "plt.plot(fpr_dt, tpr_dt, marker='.', label='ROC Curve',color='Red')# plot the roc curve for the model\n",
    "# axis labels\n",
    "plt.xlabel('False Positive Rate',fontsize=20)\n",
    "plt.ylabel('True Positive Rate',fontsize=20)\n",
    "plt.title('Receiver Operating Characteristics',fontsize=20,color='green')\n",
    "plt.legend()\n",
    "plt.grid()"
   ]
  },
  {
   "cell_type": "markdown",
   "metadata": {},
   "source": [
    "#### Evaluating the Random Forest model"
   ]
  },
  {
   "cell_type": "code",
   "execution_count": 53,
   "metadata": {},
   "outputs": [
    {
     "name": "stdout",
     "output_type": "stream",
     "text": [
      "[0 1 1 0 0]\n"
     ]
    }
   ],
   "source": [
    "#predicting target for DecisionTree\n",
    "y_pred_rfc = grid_search_rfc.predict(X_test_scaled)\n",
    "print(y_pred_rfc[0:5])"
   ]
  },
  {
   "cell_type": "markdown",
   "metadata": {},
   "source": [
    "#### Train Test accuracy for Random forest Model"
   ]
  },
  {
   "cell_type": "code",
   "execution_count": 54,
   "metadata": {},
   "outputs": [
    {
     "name": "stdout",
     "output_type": "stream",
     "text": [
      "Train accuracy of Random Forest 93.80%\n",
      "Test accuracy of Random Forest 85.25%\n",
      "\n",
      "\n",
      " Classification report for Random Forest:\n",
      "              precision    recall  f1-score   support\n",
      "\n",
      "           0       0.85      0.81      0.83        27\n",
      "           1       0.86      0.88      0.87        34\n",
      "\n",
      "    accuracy                           0.85        61\n",
      "   macro avg       0.85      0.85      0.85        61\n",
      "weighted avg       0.85      0.85      0.85        61\n",
      "\n",
      "\n",
      "\n",
      "  Confusion Matrix for Random Forest:\n"
     ]
    },
    {
     "data": {
      "image/png": "[encoded data removed]",
      "text/plain": [
       "<Figure size 432x288 with 2 Axes>"
      ]
     },
     "metadata": {
      "needs_background": "light"
     },
     "output_type": "display_data"
    },
    {
     "name": "stdout",
     "output_type": "stream",
     "text": [
      "AUC value i.e Area Under Curve \n",
      "\n",
      "\n",
      "Area Under the Curve = 0.8485838779956427 \n",
      "\n",
      "\n",
      "ROC Curve \n",
      "\n",
      "\n"
     ]
    },
    {
     "data": {
      "image/png": "[encoded data removed]",
      "text/plain": [
       "<Figure size 432x288 with 1 Axes>"
      ]
     },
     "metadata": {
      "needs_background": "light"
     },
     "output_type": "display_data"
    }
   ],
   "source": [
    "#importing accuracy_score from sklearn.metrics\n",
    "#The accuracy score which helps in calculating the train and test accuracy based on the number of correctly classified data\n",
    "from sklearn.metrics import accuracy_score\n",
    "\n",
    "#calculating train accuracy for Random Forest\n",
    "train_rfc_accuracy = grid_search_rfc.score(X_train_scaled,y_train)\n",
    "print(\"Train accuracy of Random Forest {:.2f}%\".format(train_rfc_accuracy*100))\n",
    "train_accuracies.append(train_rfc_accuracy)\n",
    "\n",
    "#calculating test accuracy for Random Forest\n",
    "test_rfc_accuracy = accuracy_score(y_test,y_pred_rfc)\n",
    "print(\"Test accuracy of Random Forest {:.2f}%\".format(test_rfc_accuracy*100))\n",
    "test_accuracies.append(test_rfc_accuracy)\n",
    "\n",
    "#importing the classification report and confusin matrix from sklearn.metric\n",
    "from sklearn.metrics import classification_report,confusion_matrix\n",
    "\n",
    "clf = classification_report(y_test,y_pred_rfc)\n",
    "print(\"\\n\\n Classification report for Random Forest:\")\n",
    "print(clf)\n",
    "\n",
    "from sklearn.metrics import plot_confusion_matrix\n",
    "print(\"\\n\\n  Confusion Matrix for Random Forest:\")\n",
    "plot_confusion_matrix(grid_search_rfc,X_test_scaled, y_test,cmap=plt.cm.Blues)\n",
    "plt.show()\n",
    "\n",
    "#Calculate AUC Value\n",
    "print(\"AUC value i.e Area Under Curve \\n\\n\")\n",
    "auc_gnb = roc_auc_score(y_test,y_pred_rfc)\n",
    "print(\"Area Under the Curve = %s \\n\\n\" %auc_gnb)\n",
    "\n",
    "#Plot ROC Curve\n",
    "print(\"ROC Curve \\n\\n\")\n",
    "\n",
    "# generate a no skill prediction (majority class)\n",
    "ns_probs = [0 for _ in range(len(y_test))]\n",
    "\n",
    "\n",
    "fpr_dt, tpr_dt, _ = roc_curve(y_test,y_pred_rfc)                    # to plot random chances\n",
    "ns_fpr,ns_tpr, _ = roc_curve(y_test, ns_probs)                       # to plot roc curve for the model\n",
    "\n",
    "\n",
    "\n",
    "# plot the roc curve for the model\n",
    "plt.plot(ns_fpr, ns_tpr, linestyle='--', label='Random Chances',color='Blue') # plot the random chances for the model\n",
    "plt.plot(fpr_dt, tpr_dt, marker='.', label='ROC Curve',color='Red')# plot the roc curve for the model\n",
    "# axis labels\n",
    "plt.xlabel('False Positive Rate',fontsize=20)\n",
    "plt.ylabel('True Positive Rate',fontsize=20)\n",
    "plt.title('Receiver Operating Characteristics',fontsize=20,color='green')\n",
    "plt.legend()\n",
    "plt.grid()"
   ]
  },
  {
   "cell_type": "markdown",
   "metadata": {},
   "source": [
    "#### Evaluating the ADABoost model"
   ]
  },
  {
   "cell_type": "code",
   "execution_count": 55,
   "metadata": {},
   "outputs": [
    {
     "name": "stdout",
     "output_type": "stream",
     "text": [
      "[0 1 1 0 0]\n"
     ]
    }
   ],
   "source": [
    "#predicting target for DecisionTree\n",
    "y_pred_abc = grid_search_ada.predict(X_test_scaled)\n",
    "print(y_pred_abc[0:5])"
   ]
  },
  {
   "cell_type": "markdown",
   "metadata": {},
   "source": [
    "#### Train Test accuracy for ADA Boost Model"
   ]
  },
  {
   "cell_type": "code",
   "execution_count": 56,
   "metadata": {},
   "outputs": [
    {
     "name": "stdout",
     "output_type": "stream",
     "text": [
      "Train accuracy of ADABoost 88.02%\n",
      "Test accuracy of ADABoost 83.61%\n",
      "\n",
      "\n",
      " Classification report for ADA Boost:\n",
      "              precision    recall  f1-score   support\n",
      "\n",
      "           0       0.81      0.81      0.81        27\n",
      "           1       0.85      0.85      0.85        34\n",
      "\n",
      "    accuracy                           0.84        61\n",
      "   macro avg       0.83      0.83      0.83        61\n",
      "weighted avg       0.84      0.84      0.84        61\n",
      "\n",
      "\n",
      "\n",
      "  Confusion Matrix for ADA Boost:\n"
     ]
    },
    {
     "data": {
      "image/png": "[encoded data removed]",
      "text/plain": [
       "<Figure size 432x288 with 2 Axes>"
      ]
     },
     "metadata": {
      "needs_background": "light"
     },
     "output_type": "display_data"
    },
    {
     "name": "stdout",
     "output_type": "stream",
     "text": [
      "AUC value i.e Area Under Curve \n",
      "\n",
      "\n",
      "Area Under the Curve = 0.8338779956427016 \n",
      "\n",
      "\n",
      "ROC Curve \n",
      "\n",
      "\n"
     ]
    },
    {
     "data": {
      "image/png": "[encoded data removed]",
      "text/plain": [
       "<Figure size 432x288 with 1 Axes>"
      ]
     },
     "metadata": {
      "needs_background": "light"
     },
     "output_type": "display_data"
    }
   ],
   "source": [
    "#importing accuracy_score from sklearn.metrics\n",
    "#The accuracy score which helps in calculating the train and test accuracy based on the number of correctly classified data\n",
    "from sklearn.metrics import accuracy_score\n",
    "\n",
    "#calculating train accuracy for ADABoost\n",
    "train_abc_accuracy = grid_search_ada.score(X_train_scaled,y_train)\n",
    "print(\"Train accuracy of ADABoost {:.2f}%\".format(train_abc_accuracy*100))\n",
    "train_accuracies.append(train_abc_accuracy)\n",
    "\n",
    "#calculating test accuracy for ADABoost\n",
    "test_abc_accuracy = accuracy_score(y_test,y_pred_abc)\n",
    "print(\"Test accuracy of ADABoost {:.2f}%\".format(test_abc_accuracy*100))\n",
    "test_accuracies.append(test_abc_accuracy)\n",
    "\n",
    "#importing the classification report and confusin matrix from sklearn.metric\n",
    "from sklearn.metrics import classification_report,confusion_matrix\n",
    "\n",
    "clf = classification_report(y_test,y_pred_abc)\n",
    "print(\"\\n\\n Classification report for ADA Boost:\")\n",
    "print(clf)\n",
    "\n",
    "from sklearn.metrics import plot_confusion_matrix\n",
    "print(\"\\n\\n  Confusion Matrix for ADA Boost:\")\n",
    "plot_confusion_matrix(grid_search_ada,X_test_scaled, y_test,cmap=plt.cm.Blues)\n",
    "plt.show()\n",
    "\n",
    "#Calculate AUC Value\n",
    "print(\"AUC value i.e Area Under Curve \\n\\n\")\n",
    "auc_gnb = roc_auc_score(y_test,y_pred_abc)\n",
    "print(\"Area Under the Curve = %s \\n\\n\" %auc_gnb)\n",
    "\n",
    "#Plot ROC Curve\n",
    "print(\"ROC Curve \\n\\n\")\n",
    "\n",
    "# generate a no skill prediction (majority class)\n",
    "ns_probs = [0 for _ in range(len(y_test))]\n",
    "\n",
    "\n",
    "fpr_dt, tpr_dt, _ = roc_curve(y_test,y_pred_abc)                    # to plot random chances\n",
    "ns_fpr,ns_tpr, _ = roc_curve(y_test, ns_probs)                       # to plot roc curve for the model\n",
    "\n",
    "\n",
    "\n",
    "# plot the roc curve for the model\n",
    "plt.plot(ns_fpr, ns_tpr, linestyle='--', label='Random Chances',color='Blue') # plot the random chances for the model\n",
    "plt.plot(fpr_dt, tpr_dt, marker='.', label='ROC Curve',color='Red')# plot the roc curve for the model\n",
    "# axis labels\n",
    "plt.xlabel('False Positive Rate',fontsize=20)\n",
    "plt.ylabel('True Positive Rate',fontsize=20)\n",
    "plt.title('Receiver Operating Characteristics',fontsize=20,color='green')\n",
    "plt.legend()\n",
    "plt.grid()"
   ]
  },
  {
   "cell_type": "markdown",
   "metadata": {},
   "source": [
    "#### Evaluating the KNN model"
   ]
  },
  {
   "cell_type": "code",
   "execution_count": 57,
   "metadata": {},
   "outputs": [
    {
     "name": "stdout",
     "output_type": "stream",
     "text": [
      "[0 0 0 0 0]\n"
     ]
    }
   ],
   "source": [
    "#predicting target for KNN\n",
    "y_pred_knn = grid_search_knn.predict(X_test_scaled)\n",
    "print(y_pred_knn[0:5])"
   ]
  },
  {
   "cell_type": "markdown",
   "metadata": {},
   "source": [
    "#### Train Test accuracy for KNN Model"
   ]
  },
  {
   "cell_type": "code",
   "execution_count": 58,
   "metadata": {},
   "outputs": [
    {
     "name": "stdout",
     "output_type": "stream",
     "text": [
      "Train accuracy of KNN 100.00%\n",
      "Test accuracy of KNN 85.25%\n",
      "\n",
      "\n",
      " Classification report for KNN:\n",
      "              precision    recall  f1-score   support\n",
      "\n",
      "           0       0.88      0.78      0.82        27\n",
      "           1       0.84      0.91      0.87        34\n",
      "\n",
      "    accuracy                           0.85        61\n",
      "   macro avg       0.86      0.84      0.85        61\n",
      "weighted avg       0.85      0.85      0.85        61\n",
      "\n",
      "\n",
      "\n",
      "  Confusion Matrix for KNN:\n"
     ]
    },
    {
     "data": {
      "image/png": "[encoded data removed]",
      "text/plain": [
       "<Figure size 432x288 with 2 Axes>"
      ]
     },
     "metadata": {
      "needs_background": "light"
     },
     "output_type": "display_data"
    },
    {
     "name": "stdout",
     "output_type": "stream",
     "text": [
      "AUC value i.e Area Under Curve \n",
      "\n",
      "\n",
      "Area Under the Curve = 0.8447712418300652 \n",
      "\n",
      "\n",
      "ROC Curve \n",
      "\n",
      "\n"
     ]
    },
    {
     "data": {
      "image/png": "[encoded data removed]",
      "text/plain": [
       "<Figure size 432x288 with 1 Axes>"
      ]
     },
     "metadata": {
      "needs_background": "light"
     },
     "output_type": "display_data"
    }
   ],
   "source": [
    "#importing accuracy_score from sklearn.metrics\n",
    "#The accuracy score which helps in calculating the train and test accuracy based on the number of correctly classified data\n",
    "from sklearn.metrics import accuracy_score\n",
    "\n",
    "#calculating train accuracy for KNN\n",
    "train_knn_accuracy = grid_search_knn.score(X_train_scaled,y_train)\n",
    "print(\"Train accuracy of KNN {:.2f}%\".format(train_knn_accuracy*100))\n",
    "train_accuracies.append(train_knn_accuracy)\n",
    "\n",
    "#calculating test accuracy for KNN\n",
    "test_knn_accuracy = accuracy_score(y_test,y_pred_knn)\n",
    "print(\"Test accuracy of KNN {:.2f}%\".format(test_knn_accuracy*100))\n",
    "test_accuracies.append(test_knn_accuracy)\n",
    "\n",
    "#importing the classification report and confusin matrix from sklearn.metric\n",
    "from sklearn.metrics import classification_report,confusion_matrix\n",
    "\n",
    "clf = classification_report(y_test,y_pred_knn)\n",
    "print(\"\\n\\n Classification report for KNN:\")\n",
    "print(clf)\n",
    "\n",
    "from sklearn.metrics import plot_confusion_matrix\n",
    "print(\"\\n\\n  Confusion Matrix for KNN:\")\n",
    "plot_confusion_matrix(grid_search_knn,X_test_scaled, y_test,cmap=plt.cm.Blues)\n",
    "plt.show()\n",
    "\n",
    "#Calculate AUC Value\n",
    "print(\"AUC value i.e Area Under Curve \\n\\n\")\n",
    "auc_gnb = roc_auc_score(y_test,y_pred_knn)\n",
    "print(\"Area Under the Curve = %s \\n\\n\" %auc_gnb)\n",
    "\n",
    "#Plot ROC Curve\n",
    "print(\"ROC Curve \\n\\n\")\n",
    "\n",
    "# generate a no skill prediction (majority class)\n",
    "ns_probs = [0 for _ in range(len(y_test))]\n",
    "\n",
    "\n",
    "fpr_dt, tpr_dt, _ = roc_curve(y_test,y_pred_knn)                    # to plot random chances\n",
    "ns_fpr,ns_tpr, _ = roc_curve(y_test, ns_probs)                       # to plot roc curve for the model\n",
    "\n",
    "\n",
    "\n",
    "# plot the roc curve for the model\n",
    "plt.plot(ns_fpr, ns_tpr, linestyle='--', label='Random Chances',color='Blue') # plot the random chances for the model\n",
    "plt.plot(fpr_dt, tpr_dt, marker='.', label='ROC Curve',color='Red')# plot the roc curve for the model\n",
    "# axis labels\n",
    "plt.xlabel('False Positive Rate',fontsize=20)\n",
    "plt.ylabel('True Positive Rate',fontsize=20)\n",
    "plt.title('Receiver Operating Characteristics',fontsize=20,color='green')\n",
    "plt.legend()\n",
    "plt.grid()"
   ]
  },
  {
   "cell_type": "markdown",
   "metadata": {},
   "source": [
    "#### Evaluating the Multilayer perceptron model"
   ]
  },
  {
   "cell_type": "code",
   "execution_count": 59,
   "metadata": {},
   "outputs": [
    {
     "name": "stdout",
     "output_type": "stream",
     "text": [
      "[0 1 1 0 0]\n"
     ]
    }
   ],
   "source": [
    "#predicting target for MLP\n",
    "y_pred_mlp = grid_search_mlp.predict(X_test_scaled)\n",
    "print(y_pred_mlp[0:5])"
   ]
  },
  {
   "cell_type": "markdown",
   "metadata": {},
   "source": [
    "#### Train Test accuracy for MLP Model"
   ]
  },
  {
   "cell_type": "code",
   "execution_count": 60,
   "metadata": {},
   "outputs": [
    {
     "name": "stdout",
     "output_type": "stream",
     "text": [
      "Train accuracy of MLP 92.98%\n",
      "Test accuracy of MLP 86.89%\n",
      "\n",
      "\n",
      " Classification report for Multilayer Perceptron:\n",
      "              precision    recall  f1-score   support\n",
      "\n",
      "           0       0.85      0.85      0.85        27\n",
      "           1       0.88      0.88      0.88        34\n",
      "\n",
      "    accuracy                           0.87        61\n",
      "   macro avg       0.87      0.87      0.87        61\n",
      "weighted avg       0.87      0.87      0.87        61\n",
      "\n",
      "\n",
      "\n",
      "  Confusion Matrix for Multilayer Perceptron:\n"
     ]
    },
    {
     "data": {
      "image/png": "[encoded data removed]",
      "text/plain": [
       "<Figure size 432x288 with 2 Axes>"
      ]
     },
     "metadata": {
      "needs_background": "light"
     },
     "output_type": "display_data"
    },
    {
     "name": "stdout",
     "output_type": "stream",
     "text": [
      "AUC value i.e Area Under Curve \n",
      "\n",
      "\n",
      "Area Under the Curve = 0.8671023965141612 \n",
      "\n",
      "\n",
      "ROC Curve \n",
      "\n",
      "\n"
     ]
    },
    {
     "data": {
      "image/png": "[encoded data removed]",
      "text/plain": [
       "<Figure size 432x288 with 1 Axes>"
      ]
     },
     "metadata": {
      "needs_background": "light"
     },
     "output_type": "display_data"
    }
   ],
   "source": [
    "#importing accuracy_score from sklearn.metrics\n",
    "#The accuracy score which helps in calculating the train and test accuracy based on the number of correctly classified data\n",
    "from sklearn.metrics import accuracy_score\n",
    "\n",
    "#calculating train accuracy for MLP\n",
    "train_mlp_accuracy = grid_search_mlp.score(X_train_scaled,y_train)\n",
    "print(\"Train accuracy of MLP {:.2f}%\".format(train_mlp_accuracy*100))\n",
    "train_accuracies.append(train_mlp_accuracy)\n",
    "\n",
    "#calculating test accuracy for MLP\n",
    "test_mlp_accuracy = accuracy_score(y_test,y_pred_mlp)\n",
    "print(\"Test accuracy of MLP {:.2f}%\".format(test_mlp_accuracy*100))\n",
    "test_accuracies.append(test_mlp_accuracy)\n",
    "\n",
    "#importing the classification report and confusin matrix from sklearn.metric\n",
    "from sklearn.metrics import classification_report,confusion_matrix\n",
    "\n",
    "clf = classification_report(y_test,y_pred_mlp)\n",
    "print(\"\\n\\n Classification report for Multilayer Perceptron:\")\n",
    "print(clf)\n",
    "\n",
    "from sklearn.metrics import plot_confusion_matrix\n",
    "print(\"\\n\\n  Confusion Matrix for Multilayer Perceptron:\")\n",
    "plot_confusion_matrix(grid_search_mlp,X_test_scaled, y_test,cmap=plt.cm.Blues)\n",
    "plt.show()\n",
    "\n",
    "#Calculate AUC Value\n",
    "print(\"AUC value i.e Area Under Curve \\n\\n\")\n",
    "auc_gnb = roc_auc_score(y_test,y_pred_mlp)\n",
    "print(\"Area Under the Curve = %s \\n\\n\" %auc_gnb)\n",
    "\n",
    "#Plot ROC Curve\n",
    "print(\"ROC Curve \\n\\n\")\n",
    "\n",
    "# generate a no skill prediction (majority class)\n",
    "ns_probs = [0 for _ in range(len(y_test))]\n",
    "\n",
    "\n",
    "fpr_dt, tpr_dt, _ = roc_curve(y_test,y_pred_mlp)                    # to plot random chances\n",
    "ns_fpr,ns_tpr, _ = roc_curve(y_test, ns_probs)                       # to plot roc curve for the model\n",
    "\n",
    "\n",
    "\n",
    "# plot the roc curve for the model\n",
    "plt.plot(ns_fpr, ns_tpr, linestyle='--', label='Random Chances',color='Blue') # plot the random chances for the model\n",
    "plt.plot(fpr_dt, tpr_dt, marker='.', label='ROC Curve',color='Red')# plot the roc curve for the model\n",
    "# axis labels\n",
    "plt.xlabel('False Positive Rate',fontsize=20)\n",
    "plt.ylabel('True Positive Rate',fontsize=20)\n",
    "plt.title('Receiver Operating Characteristics',fontsize=20,color='green')\n",
    "plt.legend()\n",
    "plt.grid()"
   ]
  },
  {
   "cell_type": "markdown",
   "metadata": {},
   "source": [
    "#### Train Test accuracy for C4.5 Model\n",
    "\n",
    "- ##### Importance of each feature using C4.5 model"
   ]
  },
  {
   "cell_type": "code",
   "execution_count": 61,
   "metadata": {},
   "outputs": [
    {
     "name": "stdout",
     "output_type": "stream",
     "text": [
      "Regression  tree is going to be built...\n",
      "MAE:  0.07150715071507151\n",
      "RMSE:  0.193400466323216\n",
      "Mean:  0.5445544554455446\n",
      "MAE / Mean:  13.13131313131313 %\n",
      "RMSE / Mean:  35.51535836117239 %\n",
      "finished in  33.06723952293396  seconds\n",
      "     feature  final_importance\n",
      "0         ca          0.441120\n",
      "1    restecg          0.341127\n",
      "2    oldpeak          0.206006\n",
      "3         cp          0.191265\n",
      "4        fbs          0.155366\n",
      "5        age          0.098685\n",
      "6       chol          0.017152\n",
      "7    thalach          0.014857\n",
      "8      exang          0.007176\n",
      "9   trestbps         -0.000722\n",
      "10      thal         -0.008764\n",
      "11     slope         -0.104716\n",
      "12       sex         -0.358552\n",
      "[1, 1, 1, 1, 1]\n"
     ]
    }
   ],
   "source": [
    "if __name__ == '__main__':\n",
    "   config = {'algorithm': 'C4.5', 'enableParallelism': True}\n",
    "   model = chef.fit(heart_data, config)\n",
    "   fi = chef.feature_importance()\n",
    "   print(fi)\n",
    "\n",
    "#predicting target for C4.5\n",
    "pred=[]\n",
    "for index, instance in heart_data.iterrows():\n",
    "    prediction= chef.predict(model, instance)\n",
    "    pred.append(prediction)\n",
    "print(pred[0:5])"
   ]
  },
  {
   "cell_type": "markdown",
   "metadata": {},
   "source": [
    "##### Calculated accuracy of C4.5 model"
   ]
  },
  {
   "cell_type": "code",
   "execution_count": 62,
   "metadata": {},
   "outputs": [
    {
     "name": "stdout",
     "output_type": "stream",
     "text": [
      "Accuracy of C4.5 Tree is 85.09933774834437 %\n"
     ]
    }
   ],
   "source": [
    "pred=[]\n",
    "actual1=[]\n",
    "a=0\n",
    "for index, instance in heart_data.iterrows():\n",
    "    prediction= chef.predict(model, instance)\n",
    "    pred.append(int(prediction))\n",
    "    actual=instance['Decision']\n",
    "    actual1.append(actual)\n",
    "    if actual == prediction:\n",
    "        classified = True\n",
    "        a=1+a\n",
    "C45_tree_accuracy=(a/index)*100\n",
    "\n",
    "print('Accuracy of C4.5 Tree is',C45_tree_accuracy,'%')\n"
   ]
  },
  {
   "cell_type": "markdown",
   "metadata": {},
   "source": [
    "## Plotting Train & Test accuracies <a id=\"9\"></a>"
   ]
  },
  {
   "cell_type": "code",
   "execution_count": 63,
   "metadata": {},
   "outputs": [
    {
     "name": "stdout",
     "output_type": "stream",
     "text": [
      "['Naive Bayes', 'SVC', 'Decision tree', 'Random Forest', 'ADA Boost', 'KNN', 'MLP']\n",
      "Train Accuracies [83.47, 90.08, 85.54, 93.8, 88.02, 100.0, 92.98]\n",
      "\n",
      "Test Accuracies [85.25, 85.25, 81.97, 85.25, 83.61, 85.25, 86.89]\n"
     ]
    }
   ],
   "source": [
    "label = ['Naive Bayes','SVC','Decision tree','Random Forest','ADA Boost','KNN','MLP']\n",
    "print(label)\n",
    "\n",
    "#checking the train and test accuracies for all the parameter values\n",
    "train_accurac = [round(num*100, 2) for num in train_accuracies]\n",
    "print(\"Train Accuracies \"+str(train_accurac))\n",
    "\n",
    "test_accurac = [round(num*100, 2) for num in test_accuracies]\n",
    "print(\"\\nTest Accuracies \"+str(test_accurac))"
   ]
  },
  {
   "cell_type": "code",
   "execution_count": 64,
   "metadata": {},
   "outputs": [
    {
     "data": {
      "text/html": [
       "<style  type=\"text/css\" >\n",
       "#T_75397bb0_3997_11eb_bc5e_b8c5c85affb1row0_col1,#T_75397bb0_3997_11eb_bc5e_b8c5c85affb1row2_col2{\n",
       "            background-color:  #f7fbff;\n",
       "            color:  #000000;\n",
       "        }#T_75397bb0_3997_11eb_bc5e_b8c5c85affb1row0_col2,#T_75397bb0_3997_11eb_bc5e_b8c5c85affb1row1_col2,#T_75397bb0_3997_11eb_bc5e_b8c5c85affb1row3_col2,#T_75397bb0_3997_11eb_bc5e_b8c5c85affb1row5_col2{\n",
       "            background-color:  #3787c0;\n",
       "            color:  #000000;\n",
       "        }#T_75397bb0_3997_11eb_bc5e_b8c5c85affb1row1_col1{\n",
       "            background-color:  #94c4df;\n",
       "            color:  #000000;\n",
       "        }#T_75397bb0_3997_11eb_bc5e_b8c5c85affb1row2_col1{\n",
       "            background-color:  #deebf7;\n",
       "            color:  #000000;\n",
       "        }#T_75397bb0_3997_11eb_bc5e_b8c5c85affb1row3_col1{\n",
       "            background-color:  #4292c6;\n",
       "            color:  #000000;\n",
       "        }#T_75397bb0_3997_11eb_bc5e_b8c5c85affb1row4_col1{\n",
       "            background-color:  #bed8ec;\n",
       "            color:  #000000;\n",
       "        }#T_75397bb0_3997_11eb_bc5e_b8c5c85affb1row4_col2{\n",
       "            background-color:  #abd0e6;\n",
       "            color:  #000000;\n",
       "        }#T_75397bb0_3997_11eb_bc5e_b8c5c85affb1row5_col1,#T_75397bb0_3997_11eb_bc5e_b8c5c85affb1row6_col2{\n",
       "            background-color:  #08306b;\n",
       "            color:  #f1f1f1;\n",
       "        }#T_75397bb0_3997_11eb_bc5e_b8c5c85affb1row6_col1{\n",
       "            background-color:  #529dcc;\n",
       "            color:  #000000;\n",
       "        }</style><table id=\"T_75397bb0_3997_11eb_bc5e_b8c5c85affb1\" ><thead>    <tr>        <th class=\"blank level0\" ></th>        <th class=\"col_heading level0 col0\" >Model</th>        <th class=\"col_heading level0 col1\" >Train Accuracy</th>        <th class=\"col_heading level0 col2\" >Test Accuracy</th>    </tr></thead><tbody>\n",
       "                <tr>\n",
       "                        <th id=\"T_75397bb0_3997_11eb_bc5e_b8c5c85affb1level0_row0\" class=\"row_heading level0 row0\" >0</th>\n",
       "                        <td id=\"T_75397bb0_3997_11eb_bc5e_b8c5c85affb1row0_col0\" class=\"data row0 col0\" >Naive Bayes</td>\n",
       "                        <td id=\"T_75397bb0_3997_11eb_bc5e_b8c5c85affb1row0_col1\" class=\"data row0 col1\" >83.470000</td>\n",
       "                        <td id=\"T_75397bb0_3997_11eb_bc5e_b8c5c85affb1row0_col2\" class=\"data row0 col2\" >85.250000</td>\n",
       "            </tr>\n",
       "            <tr>\n",
       "                        <th id=\"T_75397bb0_3997_11eb_bc5e_b8c5c85affb1level0_row1\" class=\"row_heading level0 row1\" >1</th>\n",
       "                        <td id=\"T_75397bb0_3997_11eb_bc5e_b8c5c85affb1row1_col0\" class=\"data row1 col0\" >SVC</td>\n",
       "                        <td id=\"T_75397bb0_3997_11eb_bc5e_b8c5c85affb1row1_col1\" class=\"data row1 col1\" >90.080000</td>\n",
       "                        <td id=\"T_75397bb0_3997_11eb_bc5e_b8c5c85affb1row1_col2\" class=\"data row1 col2\" >85.250000</td>\n",
       "            </tr>\n",
       "            <tr>\n",
       "                        <th id=\"T_75397bb0_3997_11eb_bc5e_b8c5c85affb1level0_row2\" class=\"row_heading level0 row2\" >2</th>\n",
       "                        <td id=\"T_75397bb0_3997_11eb_bc5e_b8c5c85affb1row2_col0\" class=\"data row2 col0\" >Decision tree</td>\n",
       "                        <td id=\"T_75397bb0_3997_11eb_bc5e_b8c5c85affb1row2_col1\" class=\"data row2 col1\" >85.540000</td>\n",
       "                        <td id=\"T_75397bb0_3997_11eb_bc5e_b8c5c85affb1row2_col2\" class=\"data row2 col2\" >81.970000</td>\n",
       "            </tr>\n",
       "            <tr>\n",
       "                        <th id=\"T_75397bb0_3997_11eb_bc5e_b8c5c85affb1level0_row3\" class=\"row_heading level0 row3\" >3</th>\n",
       "                        <td id=\"T_75397bb0_3997_11eb_bc5e_b8c5c85affb1row3_col0\" class=\"data row3 col0\" >Random Forest</td>\n",
       "                        <td id=\"T_75397bb0_3997_11eb_bc5e_b8c5c85affb1row3_col1\" class=\"data row3 col1\" >93.800000</td>\n",
       "                        <td id=\"T_75397bb0_3997_11eb_bc5e_b8c5c85affb1row3_col2\" class=\"data row3 col2\" >85.250000</td>\n",
       "            </tr>\n",
       "            <tr>\n",
       "                        <th id=\"T_75397bb0_3997_11eb_bc5e_b8c5c85affb1level0_row4\" class=\"row_heading level0 row4\" >4</th>\n",
       "                        <td id=\"T_75397bb0_3997_11eb_bc5e_b8c5c85affb1row4_col0\" class=\"data row4 col0\" >ADA Boost</td>\n",
       "                        <td id=\"T_75397bb0_3997_11eb_bc5e_b8c5c85affb1row4_col1\" class=\"data row4 col1\" >88.020000</td>\n",
       "                        <td id=\"T_75397bb0_3997_11eb_bc5e_b8c5c85affb1row4_col2\" class=\"data row4 col2\" >83.610000</td>\n",
       "            </tr>\n",
       "            <tr>\n",
       "                        <th id=\"T_75397bb0_3997_11eb_bc5e_b8c5c85affb1level0_row5\" class=\"row_heading level0 row5\" >5</th>\n",
       "                        <td id=\"T_75397bb0_3997_11eb_bc5e_b8c5c85affb1row5_col0\" class=\"data row5 col0\" >KNN</td>\n",
       "                        <td id=\"T_75397bb0_3997_11eb_bc5e_b8c5c85affb1row5_col1\" class=\"data row5 col1\" >100.000000</td>\n",
       "                        <td id=\"T_75397bb0_3997_11eb_bc5e_b8c5c85affb1row5_col2\" class=\"data row5 col2\" >85.250000</td>\n",
       "            </tr>\n",
       "            <tr>\n",
       "                        <th id=\"T_75397bb0_3997_11eb_bc5e_b8c5c85affb1level0_row6\" class=\"row_heading level0 row6\" >6</th>\n",
       "                        <td id=\"T_75397bb0_3997_11eb_bc5e_b8c5c85affb1row6_col0\" class=\"data row6 col0\" >MLP</td>\n",
       "                        <td id=\"T_75397bb0_3997_11eb_bc5e_b8c5c85affb1row6_col1\" class=\"data row6 col1\" >92.980000</td>\n",
       "                        <td id=\"T_75397bb0_3997_11eb_bc5e_b8c5c85affb1row6_col2\" class=\"data row6 col2\" >86.890000</td>\n",
       "            </tr>\n",
       "    </tbody></table>"
      ],
      "text/plain": [
       "<pandas.io.formats.style.Styler at 0x11bec706ec8>"
      ]
     },
     "execution_count": 64,
     "metadata": {},
     "output_type": "execute_result"
    }
   ],
   "source": [
    "#Accuracy dataframe\n",
    "Acc_df = pd.DataFrame({'Model':label,'Train Accuracy': train_accurac,'Test Accuracy': test_accurac})\n",
    "Acc_df.style.background_gradient(cmap='Blues')"
   ]
  },
  {
   "cell_type": "markdown",
   "metadata": {},
   "source": [
    "- All models train and test accuracy has been consolidated in this table to be able to compare them in a glance \n",
    "- In reference to the above table we see that KNN & Random Forest & MLP have the highest training accuracy of 100%, 93.8%, & 92.9%. However since KNN is showing 100% it is most definitely over fitting, therefore we will skip it and look at the next models with the highest accuracies which will be Random Forest & MLP with test accuracy of 85.2% and 86.8% "
   ]
  },
  {
   "cell_type": "code",
   "execution_count": 65,
   "metadata": {},
   "outputs": [
    {
     "data": {
      "image/png": "[encoded data removed]",
      "text/plain": [
       "<Figure size 1440x576 with 1 Axes>"
      ]
     },
     "metadata": {
      "needs_background": "light"
     },
     "output_type": "display_data"
    }
   ],
   "source": [
    "x = np.arange(len(label))  \n",
    "width = 0.35  \n",
    "\n",
    "#fig= plt.figure(figsize=(20,6))\n",
    "fig, ax = plt.subplots(figsize=(20, 8))\n",
    "bar1 = ax.bar(x - width/2, train_accurac, width, label='Train')\n",
    "bar2 = ax.bar(x + width/2, test_accurac, width, label='Test')\n",
    "\n",
    "# Add some text for labels, title and custom x-axis tick labels, etc.\n",
    "ax.set_ylabel('Accuracy')\n",
    "ax.set_xlabel('Model')\n",
    "ax.set_title('Model train test accuracy comparison without scaling')\n",
    "ax.set_xticks(x)\n",
    "ax.set_xticklabels(label)\n",
    "ax.set_ylim([0, 100])\n",
    "ax.legend(loc='center right', bbox_to_anchor=(1.12, 0.9))\n",
    "\n",
    "\n",
    "def autolabel(rects):\n",
    "    for rect in rects:\n",
    "        height = rect.get_height()\n",
    "        #print(height)\n",
    "        ax.annotate('{}'.format(height),\n",
    "                    xy=(rect.get_x() + rect.get_width() / 2, height),\n",
    "                    xytext=(0, 3),\n",
    "                    textcoords=\"offset points\")\n",
    "\n",
    "\n",
    "autolabel(bar1)\n",
    "autolabel(bar2)\n",
    "\n",
    "fig.tight_layout()\n",
    "\n",
    "plt.show()"
   ]
  },
  {
   "cell_type": "markdown",
   "metadata": {},
   "source": [
    "### Results\n",
    "- Based on the train and test accuracies we can see that Random forest and Multilayer perceptron are performing best as compared to others. The train accuracy for the KNN is 100% which means that it is trying to over fit the data and not able to unstand the features or the pattern in the data, hence it is not being taken into consideration."
   ]
  },
  {
   "cell_type": "markdown",
   "metadata": {},
   "source": [
    "##### As Random Forest and MultilayerPerceptron are performing better as compared to other models, so, we will take those two models and futher evaluate the models using different techniques, such as Bagging, & Voting and which ever model performs better with following techniques will be used with feature engineering and will be evaluated."
   ]
  },
  {
   "cell_type": "markdown",
   "metadata": {},
   "source": [
    "## Bagging <a id=\"10\"></a>\n",
    "\n",
    "- Bagging is a technique used to decrease the variance in the prediction by generating additional data for training from dataset using combinations with repetitions to produce multi-sets of the original data."
   ]
  },
  {
   "cell_type": "markdown",
   "metadata": {},
   "source": [
    "### Bagging on Random Forest ensemble using the best parameters obtained"
   ]
  },
  {
   "cell_type": "code",
   "execution_count": 66,
   "metadata": {},
   "outputs": [
    {
     "name": "stdout",
     "output_type": "stream",
     "text": [
      "Bagging score for Random forest is 83.93%\n"
     ]
    }
   ],
   "source": [
    "from sklearn.model_selection import KFold,cross_val_score\n",
    "from sklearn.ensemble import BaggingClassifier\n",
    "from sklearn.ensemble import RandomForestClassifier\n",
    "\n",
    "kfold = KFold(n_splits=10)\n",
    "rfc = RandomForestClassifier(max_depth=5,max_features='sqrt',n_estimators=100,random_state=0,n_jobs=-1)\n",
    "\n",
    "\n",
    "model = BaggingClassifier(base_estimator=rfc, random_state=0)\n",
    "results = cross_val_score(model, X_train_scaled, y_train.values.ravel(), cv=kfold)\n",
    "print(\"Bagging score for Random forest is {:.2f}%\".format(results.mean()*100))"
   ]
  },
  {
   "cell_type": "markdown",
   "metadata": {},
   "source": [
    "### Bagging on Multilayer perceptron using the best parameters obtained"
   ]
  },
  {
   "cell_type": "code",
   "execution_count": 67,
   "metadata": {},
   "outputs": [
    {
     "name": "stdout",
     "output_type": "stream",
     "text": [
      "Bagging score for Multilayer perceptron is 78.57%\n"
     ]
    }
   ],
   "source": [
    "from sklearn.model_selection import KFold,cross_val_score\n",
    "from sklearn.ensemble import BaggingClassifier\n",
    "from sklearn.neural_network import MLPClassifier\n",
    "\n",
    "\n",
    "kfold = KFold(n_splits=10)\n",
    "mlp = MLPClassifier(activation='logistic',alpha=0.1,learning_rate='constant',solver='lbfgs')\n",
    "\n",
    "model = BaggingClassifier(base_estimator=abc, random_state=40)\n",
    "results = cross_val_score(model, X_train_scaled, y_train.values.ravel(), cv=kfold)\n",
    "\n",
    "print(\"Bagging score for Multilayer perceptron is {:.2f}%\".format(results.mean()*100))"
   ]
  },
  {
   "cell_type": "markdown",
   "metadata": {},
   "source": [
    "## Voting <a id=\"11\"></a>\n",
    "\n",
    "- A Voting Classifier is a machine learning model that trains on an number of models and predicts an output (class) based on their highest probability of chosen class as the output.\n",
    "- Voting is also being applied on the two best performing classifiers, to see if we train a model on both of them, how would the predicted output be scored based on the probability og class chosen."
   ]
  },
  {
   "cell_type": "code",
   "execution_count": 68,
   "metadata": {},
   "outputs": [
    {
     "name": "stdout",
     "output_type": "stream",
     "text": [
      "Voting scores for 10 folds are [0.76       0.76       0.75       0.875      0.875      0.75\n",
      " 0.83333333 0.875      0.91666667 0.83333333]\n",
      "\n",
      "\n",
      "Voting score is 82.28%\n"
     ]
    }
   ],
   "source": [
    "# Voting Ensemble for Classification\n",
    "from sklearn.ensemble import RandomForestClassifier\n",
    "from sklearn.neural_network import MLPClassifier\n",
    "from sklearn.model_selection import cross_val_score,KFold\n",
    "from sklearn.ensemble import VotingClassifier\n",
    "\n",
    "kfold = KFold(n_splits=10)\n",
    "\n",
    "# create the sub models\n",
    "estimators = []\n",
    "\n",
    "model_1 = RandomForestClassifier(max_depth=5,max_features='sqrt',n_estimators=100,random_state=0,n_jobs=-1)\n",
    "estimators.append(('Random forest', model_1))\n",
    "\n",
    "model_2 = MLPClassifier(activation='logistic',alpha=0.1,learning_rate='constant',solver='lbfgs')\n",
    "estimators.append(('Perceptron', model_2))\n",
    "\n",
    "# create the ensemble model\n",
    "ensemble = VotingClassifier(estimators)\n",
    "results = cross_val_score(ensemble, X_train_scaled, y_train.values.ravel(), cv=kfold)\n",
    "print(\"Voting scores for 10 folds are\",results)\n",
    "print(\"\\n\\nVoting score is {:.2f}%\".format(results.mean()*100))"
   ]
  },
  {
   "cell_type": "markdown",
   "metadata": {},
   "source": [
    "### Feature Engineering <a id=\"12\"></a>\n",
    "\n",
    "- Feature engineering is the process of transforming raw data into features that better represent the problem to the predictive models,to increment the predictive power of the machine learning algorithms and result in improved model accuracy on unseen data. Generally, the feature engineering process is applied to generate additional features from the raw data.\n",
    "\n",
    "- As we recognized that random Forest was our best classifier in temrs of accuracy performance, therefore the feature engineering will only be applied on RFC."
   ]
  },
  {
   "cell_type": "code",
   "execution_count": 69,
   "metadata": {},
   "outputs": [],
   "source": [
    "from sklearn.feature_selection import RFE \n",
    "classifier = RandomForestClassifier(max_depth=5,max_features='sqrt',n_estimators=100,random_state=0,n_jobs=-1)\n",
    "rfe = RFE(classifier, 10)\n",
    "rfe = rfe.fit(X_train_scaled, y_train.values.ravel())"
   ]
  },
  {
   "cell_type": "code",
   "execution_count": 70,
   "metadata": {},
   "outputs": [
    {
     "name": "stdout",
     "output_type": "stream",
     "text": [
      "[ True False  True  True  True False False  True  True  True  True  True\n",
      "  True]\n"
     ]
    }
   ],
   "source": [
    "print(rfe.support_)"
   ]
  },
  {
   "cell_type": "code",
   "execution_count": 71,
   "metadata": {},
   "outputs": [
    {
     "data": {
      "text/plain": [
       "Index(['age', 'cp', 'trestbps', 'chol', 'thalach', 'exang', 'oldpeak', 'slope',\n",
       "       'ca', 'thal'],\n",
       "      dtype='object')"
      ]
     },
     "execution_count": 71,
     "metadata": {},
     "output_type": "execute_result"
    }
   ],
   "source": [
    "cols = X_train.columns[rfe.support_]\n",
    "cols"
   ]
  },
  {
   "cell_type": "code",
   "execution_count": 72,
   "metadata": {},
   "outputs": [],
   "source": [
    "X_train_scaled = pd.DataFrame(data=X_train_scaled,\n",
    "    columns=X_train.columns)\n",
    "\n",
    "X_test_scaled = pd.DataFrame(data=X_test_scaled,\n",
    "    columns=X_test.columns)\n"
   ]
  },
  {
   "cell_type": "markdown",
   "metadata": {},
   "source": [
    "#### Building the Random forest model after feature engineering"
   ]
  },
  {
   "cell_type": "code",
   "execution_count": 73,
   "metadata": {},
   "outputs": [
    {
     "data": {
      "text/plain": [
       "RandomForestClassifier(max_depth=5, max_features='sqrt', n_jobs=-1,\n",
       "                       random_state=0)"
      ]
     },
     "execution_count": 73,
     "metadata": {},
     "output_type": "execute_result"
    }
   ],
   "source": [
    "# Build the model again after Feature Selection\n",
    "rfc = RandomForestClassifier(max_depth=5,max_features='sqrt',n_estimators=100,random_state=0,n_jobs=-1)\n",
    "rfc.fit(X_train_scaled[cols], y_train)"
   ]
  },
  {
   "cell_type": "code",
   "execution_count": 74,
   "metadata": {},
   "outputs": [
    {
     "name": "stdout",
     "output_type": "stream",
     "text": [
      "[0 1 1 0 0]\n",
      "242 61\n",
      "61 61\n"
     ]
    }
   ],
   "source": [
    "#predicting target for DecisionTree\n",
    "y_pred_rfc = rfc.predict(X_test_scaled[cols])\n",
    "print(y_pred_rfc[0:5])\n",
    "\n",
    "print(len(X_train_scaled),len(X_test_scaled))\n",
    "print(len(y_pred_rfc),len(y_test))"
   ]
  },
  {
   "cell_type": "markdown",
   "metadata": {},
   "source": [
    "#### Evaluating the model"
   ]
  },
  {
   "cell_type": "code",
   "execution_count": 75,
   "metadata": {},
   "outputs": [
    {
     "name": "stdout",
     "output_type": "stream",
     "text": [
      "Train accuracy of Random Forest 94.21%\n",
      "Test accuracy of Random Forest 83.61%\n",
      "\n",
      "\n",
      " Classification report for Random Forest:\n",
      "              precision    recall  f1-score   support\n",
      "\n",
      "           0       0.84      0.78      0.81        27\n",
      "           1       0.83      0.88      0.86        34\n",
      "\n",
      "    accuracy                           0.84        61\n",
      "   macro avg       0.84      0.83      0.83        61\n",
      "weighted avg       0.84      0.84      0.84        61\n",
      "\n",
      "\n",
      "\n",
      "  Confusion Matrix for Random Forest on train:\n"
     ]
    },
    {
     "data": {
      "image/png": "[encoded data removed]",
      "text/plain": [
       "<Figure size 432x288 with 2 Axes>"
      ]
     },
     "metadata": {
      "needs_background": "light"
     },
     "output_type": "display_data"
    },
    {
     "name": "stdout",
     "output_type": "stream",
     "text": [
      "\n",
      "\n",
      "  Confusion Matrix for Random Forest on test:\n"
     ]
    },
    {
     "data": {
      "image/png": "[encoded data removed]",
      "text/plain": [
       "<Figure size 432x288 with 2 Axes>"
      ]
     },
     "metadata": {
      "needs_background": "light"
     },
     "output_type": "display_data"
    },
    {
     "name": "stdout",
     "output_type": "stream",
     "text": [
      "AUC value i.e Area Under Curve \n",
      "\n",
      "\n",
      "Area Under the Curve = 0.8300653594771241 \n",
      "\n",
      "\n",
      "ROC Curve \n",
      "\n",
      "\n"
     ]
    },
    {
     "data": {
      "image/png": "[encoded data removed]",
      "text/plain": [
       "<Figure size 432x288 with 1 Axes>"
      ]
     },
     "metadata": {
      "needs_background": "light"
     },
     "output_type": "display_data"
    }
   ],
   "source": [
    "#importing accuracy_score from sklearn.metrics\n",
    "#The accuracy score which helps in calculating the train and test accuracy based on the number of correctly classified data\n",
    "from sklearn.metrics import accuracy_score\n",
    "\n",
    "#calculating train accuracy for Random Forest\n",
    "train_rfc_accuracy = rfc.score(X_train_scaled[cols],y_train)\n",
    "print(\"Train accuracy of Random Forest {:.2f}%\".format(train_rfc_accuracy*100))\n",
    "train_accuracies.append(train_rfc_accuracy)\n",
    "\n",
    "#calculating test accuracy for Random Forest\n",
    "test_rfc_accuracy = accuracy_score(y_test,y_pred_rfc)\n",
    "print(\"Test accuracy of Random Forest {:.2f}%\".format(test_rfc_accuracy*100))\n",
    "test_accuracies.append(test_rfc_accuracy)\n",
    "\n",
    "#importing the classification report and confusin matrix from sklearn.metric\n",
    "from sklearn.metrics import classification_report,confusion_matrix\n",
    "\n",
    "clf = classification_report(y_test,y_pred_rfc)\n",
    "print(\"\\n\\n Classification report for Random Forest:\")\n",
    "print(clf)\n",
    "\n",
    "from sklearn.metrics import plot_confusion_matrix\n",
    "\n",
    "print(\"\\n\\n  Confusion Matrix for Random Forest on train:\")\n",
    "plot_confusion_matrix(rfc,X_train_scaled[cols], y_train,cmap=plt.cm.Blues)\n",
    "plt.show()\n",
    "\n",
    "print(\"\\n\\n  Confusion Matrix for Random Forest on test:\")\n",
    "plot_confusion_matrix(rfc,X_test_scaled[cols], y_test,cmap=plt.cm.Blues)\n",
    "plt.show()\n",
    "\n",
    "#Calculate AUC Value\n",
    "print(\"AUC value i.e Area Under Curve \\n\\n\")\n",
    "auc_gnb = roc_auc_score(y_test,y_pred_rfc)\n",
    "print(\"Area Under the Curve = %s \\n\\n\" %auc_gnb)\n",
    "\n",
    "#Plot ROC Curve\n",
    "print(\"ROC Curve \\n\\n\")\n",
    "\n",
    "# generate a no skill prediction (majority class)\n",
    "ns_probs = [0 for _ in range(len(y_test))]\n",
    "\n",
    "\n",
    "fpr_dt, tpr_dt, _ = roc_curve(y_test,y_pred_rfc)                    # to plot random chances\n",
    "ns_fpr,ns_tpr, _ = roc_curve(y_test, ns_probs)                       # to plot roc curve for the model\n",
    "\n",
    "\n",
    "\n",
    "# plot the roc curve for the model\n",
    "plt.plot(ns_fpr, ns_tpr, linestyle='--', label='Random Chances',color='Blue') # plot the random chances for the model\n",
    "plt.plot(fpr_dt, tpr_dt, marker='.', label='ROC Curve',color='Red')# plot the roc curve for the model\n",
    "# axis labels\n",
    "plt.xlabel('False Positive Rate',fontsize=20)\n",
    "plt.ylabel('True Positive Rate',fontsize=20)\n",
    "plt.title('Receiver Operating Characteristics',fontsize=20,color='green')\n",
    "plt.legend()\n",
    "plt.grid()"
   ]
  },
  {
   "cell_type": "markdown",
   "metadata": {},
   "source": [
    "#### Feature Importance"
   ]
  },
  {
   "cell_type": "code",
   "execution_count": 76,
   "metadata": {},
   "outputs": [
    {
     "data": {
      "text/html": [
       "<div>\n",
       "<style scoped>\n",
       "    .dataframe tbody tr th:only-of-type {\n",
       "        vertical-align: middle;\n",
       "    }\n",
       "\n",
       "    .dataframe tbody tr th {\n",
       "        vertical-align: top;\n",
       "    }\n",
       "\n",
       "    .dataframe thead th {\n",
       "        text-align: right;\n",
       "    }\n",
       "</style>\n",
       "<table border=\"1\" class=\"dataframe\">\n",
       "  <thead>\n",
       "    <tr style=\"text-align: right;\">\n",
       "      <th></th>\n",
       "      <th>age</th>\n",
       "      <th>cp</th>\n",
       "      <th>trestbps</th>\n",
       "      <th>chol</th>\n",
       "      <th>thalach</th>\n",
       "      <th>exang</th>\n",
       "      <th>oldpeak</th>\n",
       "      <th>slope</th>\n",
       "      <th>ca</th>\n",
       "      <th>thal</th>\n",
       "    </tr>\n",
       "  </thead>\n",
       "  <tbody>\n",
       "    <tr>\n",
       "      <th>0</th>\n",
       "      <td>0.073054</td>\n",
       "      <td>0.172279</td>\n",
       "      <td>0.059594</td>\n",
       "      <td>0.056639</td>\n",
       "      <td>0.106793</td>\n",
       "      <td>0.064618</td>\n",
       "      <td>0.125134</td>\n",
       "      <td>0.032364</td>\n",
       "      <td>0.161061</td>\n",
       "      <td>0.148463</td>\n",
       "    </tr>\n",
       "  </tbody>\n",
       "</table>\n",
       "</div>"
      ],
      "text/plain": [
       "        age        cp  trestbps      chol   thalach     exang   oldpeak  \\\n",
       "0  0.073054  0.172279  0.059594  0.056639  0.106793  0.064618  0.125134   \n",
       "\n",
       "      slope        ca      thal  \n",
       "0  0.032364  0.161061  0.148463  "
      ]
     },
     "execution_count": 76,
     "metadata": {},
     "output_type": "execute_result"
    }
   ],
   "source": [
    "importance = rfc.feature_importances_\n",
    "importance_df = pd.DataFrame(importance).T\n",
    "importance_df.columns = cols\n",
    "\n",
    "importance_df"
   ]
  },
  {
   "cell_type": "markdown",
   "metadata": {},
   "source": [
    "#### Plotting Important Features"
   ]
  },
  {
   "cell_type": "code",
   "execution_count": 77,
   "metadata": {},
   "outputs": [
    {
     "data": {
      "image/png": "[encoded data removed]",
      "text/plain": [
       "<Figure size 432x288 with 1 Axes>"
      ]
     },
     "metadata": {
      "needs_background": "light"
     },
     "output_type": "display_data"
    }
   ],
   "source": [
    "d = importance_df\n",
    "f = plt.figure()\n",
    "plt.title('Legend Outside', color='black')\n",
    "d.plot(kind='barh', ax=f.gca())\n",
    "plt.legend(loc='center left', bbox_to_anchor=(1.0, 0.5))\n",
    "plt.show()"
   ]
  },
  {
   "cell_type": "markdown",
   "metadata": {},
   "source": [
    "#### Predicting on unseen data"
   ]
  },
  {
   "cell_type": "code",
   "execution_count": 78,
   "metadata": {},
   "outputs": [],
   "source": [
    "data = [[25,1,1,120,200,0,0,150,0,1.3,1,0,1],        #Adult Male with chest pain\n",
    "        [55,1,1,120,200,0,0,150,0,1.3,1,0,1],        #Senior Male with chest pain\n",
    "        [25,0,1,120,200,0,0,150,0,1.3,1,0,1],        #Adullt Female with chest pain\n",
    "        [55,0,1,120,200,0,0,150,0,1.3,1,0,1],        #Senior Female with chest pain\n",
    "        [25,1,0,120,200,0,0,150,0,1.3,1,1,1],        #Adult Male without chest pain\n",
    "        [55,1,0,120,200,0,0,150,0,1.3,1,1,1]]        #Senior Male without chest pain\n",
    "prediction_df = pd.DataFrame(data,columns = X_test_scaled.columns)"
   ]
  },
  {
   "cell_type": "code",
   "execution_count": 79,
   "metadata": {},
   "outputs": [
    {
     "data": {
      "text/html": [
       "<div>\n",
       "<style scoped>\n",
       "    .dataframe tbody tr th:only-of-type {\n",
       "        vertical-align: middle;\n",
       "    }\n",
       "\n",
       "    .dataframe tbody tr th {\n",
       "        vertical-align: top;\n",
       "    }\n",
       "\n",
       "    .dataframe thead th {\n",
       "        text-align: right;\n",
       "    }\n",
       "</style>\n",
       "<table border=\"1\" class=\"dataframe\">\n",
       "  <thead>\n",
       "    <tr style=\"text-align: right;\">\n",
       "      <th></th>\n",
       "      <th>age</th>\n",
       "      <th>cp</th>\n",
       "      <th>trestbps</th>\n",
       "      <th>chol</th>\n",
       "      <th>thalach</th>\n",
       "      <th>exang</th>\n",
       "      <th>oldpeak</th>\n",
       "      <th>slope</th>\n",
       "      <th>ca</th>\n",
       "      <th>thal</th>\n",
       "    </tr>\n",
       "  </thead>\n",
       "  <tbody>\n",
       "    <tr>\n",
       "      <th>0</th>\n",
       "      <td>-0.083333</td>\n",
       "      <td>0.333333</td>\n",
       "      <td>0.265306</td>\n",
       "      <td>0.159353</td>\n",
       "      <td>0.603053</td>\n",
       "      <td>0.0</td>\n",
       "      <td>0.209677</td>\n",
       "      <td>0.5</td>\n",
       "      <td>0.00</td>\n",
       "      <td>0.333333</td>\n",
       "    </tr>\n",
       "    <tr>\n",
       "      <th>1</th>\n",
       "      <td>0.541667</td>\n",
       "      <td>0.333333</td>\n",
       "      <td>0.265306</td>\n",
       "      <td>0.159353</td>\n",
       "      <td>0.603053</td>\n",
       "      <td>0.0</td>\n",
       "      <td>0.209677</td>\n",
       "      <td>0.5</td>\n",
       "      <td>0.00</td>\n",
       "      <td>0.333333</td>\n",
       "    </tr>\n",
       "    <tr>\n",
       "      <th>2</th>\n",
       "      <td>-0.083333</td>\n",
       "      <td>0.333333</td>\n",
       "      <td>0.265306</td>\n",
       "      <td>0.159353</td>\n",
       "      <td>0.603053</td>\n",
       "      <td>0.0</td>\n",
       "      <td>0.209677</td>\n",
       "      <td>0.5</td>\n",
       "      <td>0.00</td>\n",
       "      <td>0.333333</td>\n",
       "    </tr>\n",
       "    <tr>\n",
       "      <th>3</th>\n",
       "      <td>0.541667</td>\n",
       "      <td>0.333333</td>\n",
       "      <td>0.265306</td>\n",
       "      <td>0.159353</td>\n",
       "      <td>0.603053</td>\n",
       "      <td>0.0</td>\n",
       "      <td>0.209677</td>\n",
       "      <td>0.5</td>\n",
       "      <td>0.00</td>\n",
       "      <td>0.333333</td>\n",
       "    </tr>\n",
       "    <tr>\n",
       "      <th>4</th>\n",
       "      <td>-0.083333</td>\n",
       "      <td>0.000000</td>\n",
       "      <td>0.265306</td>\n",
       "      <td>0.159353</td>\n",
       "      <td>0.603053</td>\n",
       "      <td>0.0</td>\n",
       "      <td>0.209677</td>\n",
       "      <td>0.5</td>\n",
       "      <td>0.25</td>\n",
       "      <td>0.333333</td>\n",
       "    </tr>\n",
       "    <tr>\n",
       "      <th>5</th>\n",
       "      <td>0.541667</td>\n",
       "      <td>0.000000</td>\n",
       "      <td>0.265306</td>\n",
       "      <td>0.159353</td>\n",
       "      <td>0.603053</td>\n",
       "      <td>0.0</td>\n",
       "      <td>0.209677</td>\n",
       "      <td>0.5</td>\n",
       "      <td>0.25</td>\n",
       "      <td>0.333333</td>\n",
       "    </tr>\n",
       "  </tbody>\n",
       "</table>\n",
       "</div>"
      ],
      "text/plain": [
       "        age        cp  trestbps      chol   thalach  exang   oldpeak  slope  \\\n",
       "0 -0.083333  0.333333  0.265306  0.159353  0.603053    0.0  0.209677    0.5   \n",
       "1  0.541667  0.333333  0.265306  0.159353  0.603053    0.0  0.209677    0.5   \n",
       "2 -0.083333  0.333333  0.265306  0.159353  0.603053    0.0  0.209677    0.5   \n",
       "3  0.541667  0.333333  0.265306  0.159353  0.603053    0.0  0.209677    0.5   \n",
       "4 -0.083333  0.000000  0.265306  0.159353  0.603053    0.0  0.209677    0.5   \n",
       "5  0.541667  0.000000  0.265306  0.159353  0.603053    0.0  0.209677    0.5   \n",
       "\n",
       "     ca      thal  \n",
       "0  0.00  0.333333  \n",
       "1  0.00  0.333333  \n",
       "2  0.00  0.333333  \n",
       "3  0.00  0.333333  \n",
       "4  0.25  0.333333  \n",
       "5  0.25  0.333333  "
      ]
     },
     "execution_count": 79,
     "metadata": {},
     "output_type": "execute_result"
    }
   ],
   "source": [
    "prediction_df = mms.transform(prediction_df)\n",
    "prediction_df\n",
    "\n",
    "prediction_df_scaled = pd.DataFrame(prediction_df,columns = X_test_scaled.columns)\n",
    "prediction_df_scaled[cols]"
   ]
  },
  {
   "cell_type": "markdown",
   "metadata": {},
   "source": [
    "#### Predicted results\n",
    "- 1 risk of heart disease\n",
    "- 0 risk of not having heart disease"
   ]
  },
  {
   "cell_type": "code",
   "execution_count": 80,
   "metadata": {},
   "outputs": [
    {
     "name": "stdout",
     "output_type": "stream",
     "text": [
      "[1 1 1 1 0 0]\n"
     ]
    }
   ],
   "source": [
    "heart_risk_prediction = rfc.predict(prediction_df_scaled[cols])\n",
    "print(heart_risk_prediction)"
   ]
  },
  {
   "cell_type": "markdown",
   "metadata": {},
   "source": [
    "### CONCLUSION\n",
    "- The results that we got above shows that Random forest performs overall best as compared to other classifier models.\n",
    "- The models were evaluated based on various performance metrics such as accuracy, precision, recall, F1 score and AUC ROC curve and by evluating on all the metrics, the results obtained by Random Forest shows it being one of the best classifier for the dataset.\n",
    "- Post feature enginnering we can see that factors such as chest pain, ca, and thal are the ones that is causing the more heart disease. Also, by applying techniques such as Bagging, and voting we still observed that Random forest has best accuracy of all on unseen test data."
   ]
  },
  {
   "cell_type": "markdown",
   "metadata": {},
   "source": [
    "### References <a id=\"13\"></a>\n",
    "- https://machinelearningmastery.com/ensemble-machine-learning-algorithms-python-scikit-learn/\n",
    "- https://medium.com/swlh/the-hyperparameter-cheat-sheet-770f1fed32ff"
   ]
  }
 ],
 "metadata": {
  "kernelspec": {
   "display_name": "Python 3",
   "language": "python",
   "name": "python3"
  },
  "language_info": {
   "codemirror_mode": {
    "name": "ipython",
    "version": 3
   },
   "file_extension": ".py",
   "mimetype": "text/x-python",
   "name": "python",
   "nbconvert_exporter": "python",
   "pygments_lexer": "ipython3",
   "version": "3.7.9"
  }
 },
 "nbformat": 4,
 "nbformat_minor": 4
}
